{
 "cells": [
  {
   "cell_type": "markdown",
   "metadata": {},
   "source": [
    "We investigate a quantum algorithm due to Xin et al, 2020 for solving systems of linear differential\n",
    "equations. We formulate 3 elementary examples, and implement them in qiskit. We introduce the\n",
    "notion of success probability in the context of this algorithm. We point out that the problem of\n",
    "determining certain important operators in this algorithm (not addressed by Xin et al, 2020) can be\n",
    "regarded as a quantum state preparation problem. We expect that this algorithm does not have an\n",
    "advantage over classical algorithms."
   ]
  },
  {
   "cell_type": "markdown",
   "metadata": {},
   "source": [
    "## Basic gates "
   ]
  },
  {
   "cell_type": "code",
   "execution_count": 2,
   "metadata": {},
   "outputs": [],
   "source": [
    "from qiskit import QuantumCircuit\n",
    "from qiskit import *\n",
    "from math import *"
   ]
  },
  {
   "cell_type": "code",
   "execution_count": 3,
   "metadata": {},
   "outputs": [],
   "source": [
    "# Resgister one qubit\n",
    "q = QuantumRegister(1)"
   ]
  },
  {
   "cell_type": "code",
   "execution_count": 6,
   "metadata": {},
   "outputs": [
    {
     "data": {
      "image/png": "[encoded data removed]",
      "text/plain": [
       "<Figure size 206.707x84.28 with 1 Axes>"
      ]
     },
     "execution_count": 6,
     "metadata": {},
     "output_type": "execute_result"
    }
   ],
   "source": [
    "# Circuit drawing a u3(pi/2,pi/2,pi/2) gate\n",
    "\n",
    "qc = QuantumCircuit(q)\n",
    "qc.u3(pi/2,pi/2,pi/2,q)\n",
    "qc.draw('mpl')"
   ]
  },
  {
   "cell_type": "code",
   "execution_count": 7,
   "metadata": {},
   "outputs": [
    {
     "data": {
      "image/png": "[encoded data removed]",
      "text/plain": [
       "<Figure size 146.507x84.28 with 1 Axes>"
      ]
     },
     "execution_count": 7,
     "metadata": {},
     "output_type": "execute_result"
    }
   ],
   "source": [
    "# Circuit drawing one X gate\n",
    "\n",
    "qc = QuantumCircuit(q)\n",
    "qc.x(0)\n",
    "qc.draw('mpl')"
   ]
  },
  {
   "cell_type": "code",
   "execution_count": 8,
   "metadata": {},
   "outputs": [
    {
     "data": {
      "image/png": "[encoded data removed]",
      "text/plain": [
       "<Figure size 146.507x84.28 with 1 Axes>"
      ]
     },
     "execution_count": 8,
     "metadata": {},
     "output_type": "execute_result"
    }
   ],
   "source": [
    "# Circuit drawing an H-gate\n",
    "\n",
    "qc = QuantumCircuit(q)\n",
    "qc.h(0)\n",
    "qc.draw('mpl')"
   ]
  },
  {
   "cell_type": "code",
   "execution_count": 9,
   "metadata": {},
   "outputs": [
    {
     "data": {
      "image/png": "[encoded data removed]",
      "text/plain": [
       "<Figure size 146.507x84.28 with 1 Axes>"
      ]
     },
     "execution_count": 9,
     "metadata": {},
     "output_type": "execute_result"
    }
   ],
   "source": [
    "# Circuit drawing Ry(pi/2) gate\n",
    "\n",
    "qc = QuantumCircuit(q)\n",
    "qc.ry(pi/2,0)\n",
    "qc.draw('mpl')"
   ]
  },
  {
   "cell_type": "code",
   "execution_count": 10,
   "metadata": {},
   "outputs": [
    {
     "data": {
      "image/png": "[encoded data removed]",
      "text/plain": [
       "<Figure size 146.652x144.48 with 1 Axes>"
      ]
     },
     "execution_count": 10,
     "metadata": {},
     "output_type": "execute_result"
    }
   ],
   "source": [
    "# Control NOT gate with control in qubit 1 and target in 0.\n",
    "\n",
    "qc = QuantumCircuit(2)\n",
    "qc.cx(1,0)\n",
    "qc.draw('mpl')"
   ]
  },
  {
   "cell_type": "code",
   "execution_count": 11,
   "metadata": {},
   "outputs": [
    {
     "data": {
      "image/png": "[encoded data removed]",
      "text/plain": [
       "<Figure size 327.252x144.48 with 1 Axes>"
      ]
     },
     "execution_count": 11,
     "metadata": {},
     "output_type": "execute_result"
    }
   ],
   "source": [
    "# Controlled Ry-gate\n",
    "\n",
    "qc = QuantumCircuit(2)\n",
    "\n",
    "qc.ry(pi/2,1)\n",
    "qc.cx(0,1)\n",
    "qc.ry(-pi/2,1)\n",
    "qc.cx(0,1)\n",
    "\n",
    "\n",
    "\n",
    "qc.draw('mpl')"
   ]
  },
  {
   "cell_type": "code",
   "execution_count": 12,
   "metadata": {},
   "outputs": [
    {
     "data": {
      "image/png": "[encoded data removed]",
      "text/plain": [
       "<Figure size 146.797x204.68 with 1 Axes>"
      ]
     },
     "execution_count": 12,
     "metadata": {},
     "output_type": "execute_result"
    }
   ],
   "source": [
    "# Toffoli gate\n",
    "\n",
    "qc = QuantumCircuit(3)\n",
    "qc.ccx(0,1,2)\n",
    "qc.draw('mpl')"
   ]
  },
  {
   "cell_type": "code",
   "execution_count": 13,
   "metadata": {},
   "outputs": [
    {
     "data": {
      "image/png": "[encoded data removed]",
      "text/plain": [
       "<Figure size 327.397x204.68 with 1 Axes>"
      ]
     },
     "execution_count": 13,
     "metadata": {},
     "output_type": "execute_result"
    }
   ],
   "source": [
    "# Double-controlled Ry-gate\n",
    "\n",
    "qc = QuantumCircuit(3)\n",
    "\n",
    "qc.ry(pi/2,2)\n",
    "qc.ccx(0,1,2)\n",
    "qc.ry(-pi/2,2)\n",
    "qc.ccx(0,1,2)\n",
    "\n",
    "\n",
    "\n",
    "qc.draw('mpl')"
   ]
  },
  {
   "cell_type": "code",
   "execution_count": 14,
   "metadata": {},
   "outputs": [
    {
     "data": {
      "image/png": "[encoded data removed]",
      "text/plain": [
       "<Figure size 146.652x144.48 with 1 Axes>"
      ]
     },
     "execution_count": 14,
     "metadata": {},
     "output_type": "execute_result"
    }
   ],
   "source": [
    "\n",
    "# Measurement gate \n",
    "\n",
    "q= QuantumRegister(1)\n",
    "c= ClassicalRegister(1)\n",
    "qc = QuantumCircuit(q,c)\n",
    "qc.measure(q,c)\n",
    "qc.draw('mpl')"
   ]
  },
  {
   "cell_type": "markdown",
   "metadata": {},
   "source": [
    "## Circuit one\n",
    "\n",
    "This circuit will solve a simple homogeneous linear differential equation."
   ]
  },
  {
   "cell_type": "code",
   "execution_count": 15,
   "metadata": {},
   "outputs": [],
   "source": [
    "# Importing libraries\n",
    "\n",
    "from qiskit import QuantumCircuit, ClassicalRegister, QuantumRegister\n",
    "import numpy as np"
   ]
  },
  {
   "cell_type": "code",
   "execution_count": 16,
   "metadata": {},
   "outputs": [
    {
     "data": {
      "image/png": "[encoded data removed]",
      "text/plain": [
       "<Figure size 504.767x204.68 with 1 Axes>"
      ]
     },
     "execution_count": 16,
     "metadata": {},
     "output_type": "execute_result"
    }
   ],
   "source": [
    "t=0.1  # time used to evaluate the ode\n",
    "\n",
    "#Taylor series exapnsion\n",
    "c0=np.cosh(t)\n",
    "c1=np.sinh(t)\n",
    "\n",
    "#Theta to rotate the qubits for superposition\n",
    "theta=np.arctan2(np.sqrt(c1),np.sqrt(c0))\n",
    "\n",
    "#Quantum registers and circuit\n",
    "q= QuantumRegister(2)\n",
    "c= ClassicalRegister(2)\n",
    "qc = QuantumCircuit(q,c)\n",
    "\n",
    "#Encoding gates\n",
    "qc.ry(2*theta,q[0])\n",
    "qc.cx(q[0],q[1])\n",
    "qc.ry(-2*theta,q[0])\n",
    "\n",
    "qc.barrier(q[0],q[1])\n",
    "\n",
    "#Measure\n",
    "qc.measure(q,c)\n",
    "qc.draw('mpl',initial_state=True)"
   ]
  },
  {
   "cell_type": "markdown",
   "metadata": {},
   "source": [
    "## Running circuit one on the Qasm Simulator"
   ]
  },
  {
   "cell_type": "code",
   "execution_count": 17,
   "metadata": {},
   "outputs": [],
   "source": [
    "from qiskit import BasicAer, execute\n",
    "from qiskit.visualization import plot_histogram"
   ]
  },
  {
   "cell_type": "code",
   "execution_count": 18,
   "metadata": {},
   "outputs": [],
   "source": [
    "# Simulator\n",
    "\n",
    "backend_sim = BasicAer.get_backend('qasm_simulator')"
   ]
  },
  {
   "cell_type": "code",
   "execution_count": 19,
   "metadata": {},
   "outputs": [],
   "source": [
    "nshots=8192 # Number of simulations run.\n",
    "\n",
    "#Qasm simulation\n",
    "result = execute(qc, backend_sim, shots=nshots).result()\n",
    "counts = result.get_counts(qc)"
   ]
  },
  {
   "cell_type": "code",
   "execution_count": 20,
   "metadata": {},
   "outputs": [
    {
     "data": {
      "image/png": "[encoded data removed]",
      "text/plain": [
       "<Figure size 504x360 with 1 Axes>"
      ]
     },
     "execution_count": 20,
     "metadata": {},
     "output_type": "execute_result"
    }
   ],
   "source": [
    "#Results obtained after simulations \n",
    "#in all states of the ancilla qubit.\n",
    "\n",
    "plot_histogram(counts, color=\"darkgreen\")"
   ]
  },
  {
   "cell_type": "code",
   "execution_count": 21,
   "metadata": {},
   "outputs": [
    {
     "data": {
      "text/plain": [
       "{'00': 6802, '11': 679, '10': 57, '01': 654}"
      ]
     },
     "execution_count": 21,
     "metadata": {},
     "output_type": "execute_result"
    }
   ],
   "source": [
    "counts"
   ]
  },
  {
   "cell_type": "markdown",
   "metadata": {},
   "source": [
    "# Success probability\n",
    "\n",
    "Success probabilities are probabilities calculated only when the ancilla is in state 0. "
   ]
  },
  {
   "cell_type": "markdown",
   "metadata": {},
   "source": [
    "##### Experimental value for the success probability:"
   ]
  },
  {
   "cell_type": "code",
   "execution_count": 22,
   "metadata": {},
   "outputs": [
    {
     "data": {
      "text/plain": [
       "0.8372802734375"
      ]
     },
     "execution_count": 22,
     "metadata": {},
     "output_type": "execute_result"
    }
   ],
   "source": [
    "\n",
    "# Conditional probabibilties in state |0>\n",
    "p0 =counts.get('00')/nshots\n",
    "p1 = counts.get('10')/nshots\n",
    "\n",
    "# Experimental Success probability\n",
    "S_p_exp = p0+p1\n",
    "S_p_exp"
   ]
  },
  {
   "cell_type": "markdown",
   "metadata": {},
   "source": [
    "##### Theoretical value for the success probability:"
   ]
  },
  {
   "cell_type": "code",
   "execution_count": 23,
   "metadata": {},
   "outputs": [
    {
     "data": {
      "text/plain": [
       "0.8351600230178197"
      ]
     },
     "execution_count": 23,
     "metadata": {},
     "output_type": "execute_result"
    }
   ],
   "source": [
    "# Theoretical Success probability\n",
    "\n",
    "# This was calculated in the thesis\n",
    "S_p =(c0**2+c1**2)/(c0**2+c1**2+2*c0*c1)\n",
    "S_p"
   ]
  },
  {
   "cell_type": "markdown",
   "metadata": {},
   "source": [
    "##### The experimental and theoretical results for the success probability are similar :)"
   ]
  },
  {
   "cell_type": "markdown",
   "metadata": {},
   "source": [
    "## Solution of the differential equation"
   ]
  },
  {
   "cell_type": "code",
   "execution_count": 24,
   "metadata": {},
   "outputs": [
    {
     "data": {
      "text/plain": [
       "10.923979738782625"
      ]
     },
     "execution_count": 24,
     "metadata": {},
     "output_type": "execute_result"
    }
   ],
   "source": [
    "# Experimental Solution of the ODE\n",
    "\n",
    "Y_exp = np.sqrt(p0/p1)\n",
    "Y_exp"
   ]
  },
  {
   "cell_type": "code",
   "execution_count": 25,
   "metadata": {},
   "outputs": [
    {
     "data": {
      "text/plain": [
       "10.033311132253989"
      ]
     },
     "execution_count": 25,
     "metadata": {},
     "output_type": "execute_result"
    }
   ],
   "source": [
    "# Theoretical solution of the ODE\n",
    "\n",
    "Y=c0/c1\n",
    "Y"
   ]
  },
  {
   "cell_type": "markdown",
   "metadata": {},
   "source": [
    "###### The experimetal and theoretical results for the solution of the differential equation are comparable :)"
   ]
  },
  {
   "cell_type": "markdown",
   "metadata": {},
   "source": [
    "# Running circuit one on a Real device"
   ]
  },
  {
   "cell_type": "code",
   "execution_count": 39,
   "metadata": {
    "scrolled": true
   },
   "outputs": [
    {
     "name": "stderr",
     "output_type": "stream",
     "text": [
      "ibmqfactory.load_account:WARNING:2021-07-29 15:56:03,280: Credentials are already in use. The existing account in the session will be replaced.\n"
     ]
    }
   ],
   "source": [
    "# Load account\n",
    "\n",
    "from qiskit import IBMQ\n",
    "IBMQ.load_account()\n",
    "provider=IBMQ.get_provider()"
   ]
  },
  {
   "cell_type": "code",
   "execution_count": 40,
   "metadata": {},
   "outputs": [
    {
     "data": {
      "text/plain": [
       "[<IBMQBackend('ibmqx2') from IBMQ(hub='ibm-q', group='open', project='main')>,\n",
       " <IBMQBackend('ibmq_armonk') from IBMQ(hub='ibm-q', group='open', project='main')>,\n",
       " <IBMQBackend('ibmq_santiago') from IBMQ(hub='ibm-q', group='open', project='main')>,\n",
       " <IBMQBackend('ibmq_bogota') from IBMQ(hub='ibm-q', group='open', project='main')>,\n",
       " <IBMQBackend('ibmq_lima') from IBMQ(hub='ibm-q', group='open', project='main')>,\n",
       " <IBMQBackend('ibmq_belem') from IBMQ(hub='ibm-q', group='open', project='main')>,\n",
       " <IBMQBackend('ibmq_quito') from IBMQ(hub='ibm-q', group='open', project='main')>,\n",
       " <IBMQBackend('ibmq_manila') from IBMQ(hub='ibm-q', group='open', project='main')>]"
      ]
     },
     "execution_count": 40,
     "metadata": {},
     "output_type": "execute_result"
    }
   ],
   "source": [
    "# Getting available Backened\n",
    "\n",
    "provider.backends(simulator=False, operational=True)"
   ]
  },
  {
   "cell_type": "code",
   "execution_count": 41,
   "metadata": {},
   "outputs": [
    {
     "data": {
      "text/plain": [
       "'ibmq_santiago'"
      ]
     },
     "execution_count": 41,
     "metadata": {},
     "output_type": "execute_result"
    }
   ],
   "source": [
    "# Selecting the backend we want to work with\n",
    "\n",
    "backened=provider.get_backend('ibmq_santiago',simulator=False,operational=True)\n",
    "backened.name()\n"
   ]
  },
  {
   "cell_type": "code",
   "execution_count": 42,
   "metadata": {},
   "outputs": [],
   "source": [
    "# simulating on the real device\n",
    "\n",
    "nshots=8192\n",
    "\n",
    "job_real = execute(qc, shots=nshots, backend= backened)\n",
    "jobid = job_real.job_id()"
   ]
  },
  {
   "cell_type": "code",
   "execution_count": 43,
   "metadata": {},
   "outputs": [
    {
     "data": {
      "text/plain": [
       "12"
      ]
     },
     "execution_count": 43,
     "metadata": {},
     "output_type": "execute_result"
    }
   ],
   "source": [
    "# Checking the queque to register for using it\n",
    "\n",
    "job_real.status()\n",
    "\n",
    "job_real.queue_position()"
   ]
  },
  {
   "cell_type": "code",
   "execution_count": 44,
   "metadata": {},
   "outputs": [],
   "source": [
    "# Getting results from the real device\n",
    "retrieved_job = backened.retrieve_job(jobid)\n",
    "result_real= retrieved_job.result()\n",
    "\n",
    "counts_real= result_real.get_counts(qc)"
   ]
  },
  {
   "cell_type": "code",
   "execution_count": 45,
   "metadata": {},
   "outputs": [
    {
     "data": {
      "text/plain": [
       "{'00': 6804, '01': 718, '10': 166, '11': 504}"
      ]
     },
     "execution_count": 45,
     "metadata": {},
     "output_type": "execute_result"
    }
   ],
   "source": [
    "counts_real"
   ]
  },
  {
   "cell_type": "code",
   "execution_count": 46,
   "metadata": {},
   "outputs": [
    {
     "data": {
      "image/png": "[encoded data removed]",
      "text/plain": [
       "<Figure size 504x360 with 1 Axes>"
      ]
     },
     "execution_count": 46,
     "metadata": {},
     "output_type": "execute_result"
    }
   ],
   "source": [
    "# Plotting results\n",
    "\n",
    "plot_histogram(counts_real, color='purple')"
   ]
  },
  {
   "cell_type": "markdown",
   "metadata": {},
   "source": [
    "### Success probability"
   ]
  },
  {
   "cell_type": "code",
   "execution_count": 47,
   "metadata": {},
   "outputs": [
    {
     "data": {
      "text/plain": [
       "0.850830078125"
      ]
     },
     "execution_count": 47,
     "metadata": {},
     "output_type": "execute_result"
    }
   ],
   "source": [
    "\n",
    "# Probabilities in state |0>\n",
    "p0 = counts_real.get('00')/nshots\n",
    "p1 = counts_real.get('10')/nshots\n",
    "\n",
    "# Success probability\n",
    "S_p_Real =p0 + p1\n",
    "S_p_Real"
   ]
  },
  {
   "cell_type": "markdown",
   "metadata": {},
   "source": [
    "### Solution to the ODE"
   ]
  },
  {
   "cell_type": "code",
   "execution_count": 48,
   "metadata": {},
   "outputs": [
    {
     "data": {
      "text/plain": [
       "6.40218336251227"
      ]
     },
     "execution_count": 48,
     "metadata": {},
     "output_type": "execute_result"
    }
   ],
   "source": [
    "# Real device solution\n",
    "\n",
    "Y_real = np.sqrt(p0/p1)\n",
    "Y_real"
   ]
  },
  {
   "cell_type": "markdown",
   "metadata": {},
   "source": [
    "## Running circuit one on the Statevector Simulator"
   ]
  },
  {
   "cell_type": "code",
   "execution_count": 26,
   "metadata": {},
   "outputs": [],
   "source": [
    "from qiskit.quantum_info import Statevector"
   ]
  },
  {
   "cell_type": "code",
   "execution_count": 27,
   "metadata": {},
   "outputs": [
    {
     "data": {
      "image/png": "[encoded data removed]",
      "text/plain": [
       "<Figure size 293.449x204.68 with 1 Axes>"
      ]
     },
     "execution_count": 27,
     "metadata": {},
     "output_type": "execute_result"
    }
   ],
   "source": [
    "## Same code as above just removed the measure operators.\n",
    "\n",
    "t=0.1\n",
    "c0=np.cosh(t)\n",
    "c1=np.sinh(t)\n",
    "theta=np.arctan2(np.sqrt(c1),np.sqrt(c0))\n",
    "q= QuantumRegister(2)\n",
    "qc = QuantumCircuit(q,c)\n",
    "qc.ry(2*theta,q[0])\n",
    "qc.cx(q[0],q[1])\n",
    "qc.ry(-2*theta,q[0])\n",
    "qc.draw('mpl')"
   ]
  },
  {
   "cell_type": "markdown",
   "metadata": {},
   "source": [
    "Initial state:"
   ]
  },
  {
   "cell_type": "code",
   "execution_count": 28,
   "metadata": {},
   "outputs": [],
   "source": [
    "sv = Statevector.from_label('00')"
   ]
  },
  {
   "cell_type": "markdown",
   "metadata": {},
   "source": [
    "We evolve the initial state with our circuit:"
   ]
  },
  {
   "cell_type": "code",
   "execution_count": 29,
   "metadata": {},
   "outputs": [],
   "source": [
    "msv=sv.evolve(qc)"
   ]
  },
  {
   "cell_type": "code",
   "execution_count": 30,
   "metadata": {},
   "outputs": [
    {
     "data": {
      "text/plain": [
       "array([ 0.90936538+0.j, -0.28708882+0.j,  0.09063462+0.j,  0.28708882+0.j])"
      ]
     },
     "execution_count": 30,
     "metadata": {},
     "output_type": "execute_result"
    }
   ],
   "source": [
    "# State of the vector\n",
    "\n",
    "msv.data"
   ]
  },
  {
   "cell_type": "code",
   "execution_count": 31,
   "metadata": {},
   "outputs": [],
   "source": [
    "# Converting the vector to real numbers from complex numbers\n",
    "result=msv.data.real"
   ]
  },
  {
   "cell_type": "code",
   "execution_count": 32,
   "metadata": {},
   "outputs": [
    {
     "name": "stdout",
     "output_type": "stream",
     "text": [
      "[ 0.90936538 -0.28708882  0.09063462  0.28708882]\n"
     ]
    }
   ],
   "source": [
    "print(result)"
   ]
  },
  {
   "cell_type": "markdown",
   "metadata": {},
   "source": [
    "Operator for projecting the ancilla qubit to the state |0>:"
   ]
  },
  {
   "cell_type": "code",
   "execution_count": 33,
   "metadata": {},
   "outputs": [
    {
     "name": "stdout",
     "output_type": "stream",
     "text": [
      "[[1 0 0 0]\n",
      " [0 0 0 0]\n",
      " [0 0 1 0]\n",
      " [0 0 0 0]]\n"
     ]
    }
   ],
   "source": [
    "# Projection operators\n",
    "\n",
    "idmat=[[1,0],[0,1]] # Identity\n",
    "proj=[[1,0],[0,0]]  #pi_0 projection operator\n",
    "\n",
    "print(np.kron(idmat,proj)) # Tensor product of Identity and projection operator"
   ]
  },
  {
   "cell_type": "markdown",
   "metadata": {},
   "source": [
    "#### Experimental result for the statevector with the ancilla qubit projected to |0>:"
   ]
  },
  {
   "cell_type": "code",
   "execution_count": 34,
   "metadata": {},
   "outputs": [],
   "source": [
    "# Matrix multiplication of the vector and results of the tensor product\n",
    "\n",
    "proj_result=np.dot(np.kron(idmat,proj),result)"
   ]
  },
  {
   "cell_type": "code",
   "execution_count": 35,
   "metadata": {},
   "outputs": [
    {
     "name": "stdout",
     "output_type": "stream",
     "text": [
      "[0.90936538 0.         0.09063462 0.        ]\n"
     ]
    }
   ],
   "source": [
    "# Experimental state vector\n",
    "print(proj_result)"
   ]
  },
  {
   "cell_type": "markdown",
   "metadata": {},
   "source": [
    "#### Theoretical result for the statevector with the ancilla qubit projected to |0>:"
   ]
  },
  {
   "cell_type": "code",
   "execution_count": 36,
   "metadata": {},
   "outputs": [],
   "source": [
    "Theoretical=[c0/(c0+c1),0,c1/(c0+c1),0]"
   ]
  },
  {
   "cell_type": "code",
   "execution_count": 37,
   "metadata": {},
   "outputs": [
    {
     "name": "stdout",
     "output_type": "stream",
     "text": [
      "[0.909365376538991, 0, 0.09063462346100909, 0]\n"
     ]
    }
   ],
   "source": [
    "# Theoretical state vector\n",
    "\n",
    "print(Theoretical)"
   ]
  },
  {
   "cell_type": "markdown",
   "metadata": {},
   "source": [
    "#### The experimental and theoretical results exactly match :)"
   ]
  },
  {
   "cell_type": "markdown",
   "metadata": {},
   "source": [
    "# Circuit two\n",
    "\n",
    "This circuit will solve a homogeneous linear differential equation similar to circuit one. However,\n",
    "we consider a more complicated matrix A, whose square is not I."
   ]
  },
  {
   "cell_type": "code",
   "execution_count": 38,
   "metadata": {},
   "outputs": [],
   "source": [
    "# Importing libraries\n",
    "\n",
    "from qiskit import QuantumCircuit, ClassicalRegister, QuantumRegister\n",
    "import numpy as np"
   ]
  },
  {
   "cell_type": "markdown",
   "metadata": {},
   "source": [
    "The first step will be to find the operator $V$.\n",
    "\n",
    "\\begin{align*}\n",
    "V=(u^\\dagger \\otimes v)C_{10}^X(w \\otimes I)\n",
    "\\end{align*}\n",
    "\n",
    "\n",
    "\n",
    "### First unitary"
   ]
  },
  {
   "cell_type": "markdown",
   "metadata": {},
   "source": [
    "#### The general 2 qubit"
   ]
  },
  {
   "cell_type": "markdown",
   "metadata": {},
   "source": [
    "\n",
    "$|\\underline{\\psi}>=\\alpha_{00}|00>+\\alpha_0|{01}>+\\alpha_{10}|10>+\\alpha_{11}|11>$\n",
    "\n",
    "$|\\underline{\\psi}>=|0>\\otimes\\alpha_{00}|0>+|0>\\otimes\\alpha_{01}|1>+|1>\\otimes\\alpha_{00}|0>+|1>\\otimes\\alpha_{01}|1>$\n",
    "\n",
    "$|\\underline{\\psi}>=|0>\\otimes(\\alpha_{00}|0>+\\alpha_{01}|1>)+|1>\\otimes(\\alpha_{10}|0>+\\alpha_{11}|1>)$\n",
    "\n",
    "$|\\underline{\\psi}>=|0>\\otimes|\\psi>+|1>\\otimes|\n",
    "\\phi>$\n",
    "\n",
    "$|\\psi>=\\alpha_{00}|0>+\\alpha_{01}|1>=\\frac{\\sqrt{c_0}}{\\sqrt{c_0+c_1+c_2+c_3}}|0>+\\frac{\\sqrt{c_1}}{\\sqrt{c_0+c_1+c_2+c_3}}|1>$\n",
    "\n",
    "$|\\psi>=\\alpha_{10}|0>+\\alpha_{11}|1>=\\frac{\\sqrt{c_2}}{\\sqrt{c_0+c_1+c_2+c_3}}|0>+\\frac{\\sqrt{c_3}}{\\sqrt{c_0+c_1+c_2+c_3}}|1>$\n",
    "\n",
    "$\\alpha_{00}=\\frac{\\sqrt{c_0}}{\\sqrt{c_0+c_1+c_2+c_3}}$\n",
    "\n",
    "$\\alpha_{01}=\\frac{\\sqrt{c_1}}{\\sqrt{c_0+c_1+c_2+c_3}}$\n",
    "\n",
    "$\\alpha_{10}=\\frac{\\sqrt{c_2}}{\\sqrt{c_0+c_1+c_2+c_3}}$\n",
    "\n",
    "$\\alpha_{11}=\\frac{\\sqrt{c_3}}{\\sqrt{c_0+c_1+c_2+c_3}}$"
   ]
  },
  {
   "cell_type": "markdown",
   "metadata": {},
   "source": [
    "### The inner product and quadratic equation"
   ]
  },
  {
   "cell_type": "markdown",
   "metadata": {},
   "source": [
    "We would like to choose the complex numbers a and b to make $|\\psi'>$ and $|\\phi>$ orthogonal. The inner product $<\\phi'|\\psi'>$ is\n",
    "\\begin{align*}\n",
    "<\\phi'|\\psi'>=\\frac{a^2}{b^{*2}}<\\phi|\\psi>+\\frac{a}{b^{*}}(<\\psi|\\psi>-<\\phi|\\phi>)-<\\psi|\\phi>\n",
    "\\end{align*}\n",
    "\n",
    "If $<\\phi|\\psi>\\neq 0$, then setting $<\\phi'|\\psi'>$ to 0 gives a quadratic equation for $\\frac{a}{b^{*}}$, which has two complex solutions"
   ]
  },
  {
   "cell_type": "markdown",
   "metadata": {},
   "source": [
    "\n",
    "$0=\\frac{a^2}{b^{*2}}<\\phi|\\psi>+\\frac{a}{b^{*}}(<\\psi|\\psi>-<\\phi|\\phi>)-<\\psi|\\phi>$\n",
    "\n",
    "where\n",
    "\n",
    "\n",
    "$<\\phi|\\psi>=(<0|\\alpha_{10}^*+<1|\\alpha_{11}^*)\\cdot\n",
    "(\\alpha_{00}|0>+\\alpha_{01}|1>)$\n",
    "\n",
    "$=\\alpha_{10}^{*}\\alpha_{00}<0|0>+\\alpha_{10}^*\\alpha_{01}<0|1>+\\alpha_{11}^*\\alpha_{00}<1|0>+\\alpha_{11}^*\\alpha_{01}<1|1>$\n",
    "\n",
    "$=\\alpha_{10}^{*}\\alpha_{00}+0+0+\\alpha_{11}^*\\alpha_{01}$\n",
    "\n",
    "$=\\alpha_{10}^{*}\\alpha_{00}+\\alpha_{11}^*\\alpha_{01}$\n",
    "\n",
    "\n",
    "$<\\psi|\\phi>=(<0|\\alpha_{00}^*+<1|\\alpha_{01}^*)\\cdot\n",
    "(\\alpha_{10}|0>+\\alpha_{11}|1>)$\n",
    "\n",
    "$=\\alpha_{00}^{*}\\alpha_{10}<0|0>+\\alpha_{00}^*\\alpha_{11}<0|1>+\\alpha_{01}^*\\alpha_{10}<1|0>+\\alpha_{01}^*\\alpha_{11}<1|1>$\n",
    "\n",
    "$=\\alpha_{00}^{*}\\alpha_{10}+0+0+\\alpha_{01}^*\\alpha_{11}$\n",
    "\n",
    "$=\\alpha_{00}^{*}\\alpha_{10}+\\alpha_{01}^*\\alpha_{11}$\n",
    "\n",
    "\n",
    "\n",
    "\n",
    "$<\\psi|\\psi>=(<0|\\alpha_{00}^*+<1|\\alpha_{01}^*)\\cdot\n",
    "(\\alpha_{00}|0>+\\alpha_{01}|1>)$\n",
    "\n",
    "$=\\alpha_{00}^{*}\\alpha_{00}<0|0>+\\alpha_{00}^*\\alpha_{01}<0|1>+\\alpha_{01}^*\\alpha_{00}<1|0>+\\alpha_{01}^*\\alpha_{01}<1|1>$\n",
    "\n",
    "$=\\alpha_{00}^{*}\\alpha_{00}+0+0+\\alpha_{01}^*\\alpha_{01}$\n",
    "\n",
    "$=\\alpha_{00}^{*}\\alpha_{00}+\\alpha_{01}^*\\alpha_{01}$\n",
    "\n",
    "$=\\alpha_{00}^2+\\alpha_{01}^2$\n",
    "\n",
    "\n",
    "\n",
    "\n",
    "$<\\phi|\\phi>=(<0|\\alpha_{10}^*+<1|\\alpha_{11}^*)\\cdot\n",
    "(\\alpha_{10}|0>+\\alpha_{11}|1>)$\n",
    "\n",
    "$=\\alpha_{10}^{*}\\alpha_{10}<0|0>+\\alpha_{10}^*\\alpha_{11}<0|1>+\\alpha_{11}^*\\alpha_{10}<1|0>+\\alpha_{11}^*\\alpha_{11}<1|1>$\n",
    "\n",
    "$=\\alpha_{10}^{*}\\alpha_{10}+0+0+\\alpha_{11}^*\\alpha_{11}$\n",
    "\n",
    "$=\\alpha_{10}^{*}\\alpha_{10}+\\alpha_{11}^*\\alpha_{11}$\n",
    "\n",
    "$=\\alpha_{10}^2+\\alpha_{11}^2$\n",
    "\n"
   ]
  },
  {
   "cell_type": "code",
   "execution_count": null,
   "metadata": {},
   "outputs": [],
   "source": []
  },
  {
   "cell_type": "code",
   "execution_count": 39,
   "metadata": {},
   "outputs": [],
   "source": [
    "t=1/5 #Time\n",
    "\n",
    "\n",
    "# Taylor expansion, with k=3\n",
    "c0=1\n",
    "c1= t\n",
    "c2= t**2/2\n",
    "c3= t**3/6"
   ]
  },
  {
   "cell_type": "code",
   "execution_count": 40,
   "metadata": {},
   "outputs": [],
   "source": [
    "# Complex numbers\n",
    "\n",
    "alpha_00=np.sqrt(c0)/np.sqrt(c0+c1+c2+c3)\n",
    "alpha_01=np.sqrt(c1)/np.sqrt(c0+c1+c2+c3)\n",
    "alpha_10=np.sqrt(c2)/np.sqrt(c0+c1+c2+c3)\n",
    "alpha_11=np.sqrt(c3)/np.sqrt(c0+c1+c2+c3)"
   ]
  },
  {
   "cell_type": "markdown",
   "metadata": {},
   "source": [
    "\n",
    "Let $A=<\\phi|\\psi>$\n",
    "\n",
    "\n",
    "$<\\phi|\\psi>=\\alpha_{10}^{*}\\alpha_{00}+\\alpha_{11}^*\\alpha_{01}$"
   ]
  },
  {
   "cell_type": "code",
   "execution_count": 41,
   "metadata": {},
   "outputs": [
    {
     "data": {
      "text/plain": [
       "0.12916317237106772"
      ]
     },
     "execution_count": 41,
     "metadata": {},
     "output_type": "execute_result"
    }
   ],
   "source": [
    "A=alpha_10*alpha_00+alpha_11*alpha_01\n",
    "A"
   ]
  },
  {
   "cell_type": "markdown",
   "metadata": {},
   "source": [
    "Let $B=<\\psi|\\phi>$\n",
    "\n",
    "\n",
    "\n",
    "$<\\psi|\\phi>=\\alpha_{00}^{*}\\alpha_{10}+\\alpha_{01}^*\\alpha_{11}$"
   ]
  },
  {
   "cell_type": "code",
   "execution_count": 42,
   "metadata": {},
   "outputs": [
    {
     "data": {
      "text/plain": [
       "0.12916317237106772"
      ]
     },
     "execution_count": 42,
     "metadata": {},
     "output_type": "execute_result"
    }
   ],
   "source": [
    "B=alpha_00*alpha_10+alpha_01*alpha_11\n",
    "B  "
   ]
  },
  {
   "cell_type": "markdown",
   "metadata": {},
   "source": [
    "Let $C=<\\psi|\\psi>$\n",
    "\n",
    "\n",
    "\n",
    "$<\\psi|\\psi>=\\alpha_{00}^2+\\alpha_{01}^2$"
   ]
  },
  {
   "cell_type": "code",
   "execution_count": 43,
   "metadata": {},
   "outputs": [
    {
     "data": {
      "text/plain": [
       "0.982532751091703"
      ]
     },
     "execution_count": 43,
     "metadata": {},
     "output_type": "execute_result"
    }
   ],
   "source": [
    "C=alpha_00**2+alpha_01**2\n",
    "C"
   ]
  },
  {
   "cell_type": "markdown",
   "metadata": {},
   "source": [
    "Let $D=<\\phi|\\phi>$\n",
    "\n",
    "\n",
    "$<\\phi|\\phi>=\\alpha_{10}^2+\\alpha_{11}^2$\n"
   ]
  },
  {
   "cell_type": "code",
   "execution_count": 44,
   "metadata": {},
   "outputs": [
    {
     "data": {
      "text/plain": [
       "0.01746724890829695"
      ]
     },
     "execution_count": 44,
     "metadata": {},
     "output_type": "execute_result"
    }
   ],
   "source": [
    "D=alpha_10**2+alpha_11**2\n",
    "D"
   ]
  },
  {
   "cell_type": "markdown",
   "metadata": {},
   "source": [
    "The quadratic equation becomes\n",
    "\n",
    "\n",
    "$0=\\frac{a^2}{b^{*2}}<\\phi|\\psi>+\\frac{a}{b^{*}}(<\\psi|\\psi>-<\\phi|\\phi>)-<\\psi|\\phi>$\n",
    "\n",
    "$0=\\frac{a^2}{b^{*2}}A+\\frac{a}{b^{*}}(C-D)-B$\n",
    "\n",
    "Let E=C-D and $Z=\\frac{a}{b^{*}}$\n",
    "\n",
    "\n",
    "$0=Z^2A+ZE-B$\n",
    "\n",
    "$Z=\\frac{-E\\pm\\sqrt{E^2+4AB}}{2A}$\n"
   ]
  },
  {
   "cell_type": "code",
   "execution_count": 45,
   "metadata": {},
   "outputs": [],
   "source": [
    "E=C-D"
   ]
  },
  {
   "cell_type": "code",
   "execution_count": 46,
   "metadata": {},
   "outputs": [
    {
     "data": {
      "text/plain": [
       "0.13152355962004403"
      ]
     },
     "execution_count": 46,
     "metadata": {},
     "output_type": "execute_result"
    }
   ],
   "source": [
    "# Quadratic solution 1\n",
    "\n",
    "Z1=(-E+np.sqrt(E**2+4*A*B))/(2*A)\n",
    "Z1"
   ]
  },
  {
   "cell_type": "code",
   "execution_count": 47,
   "metadata": {},
   "outputs": [
    {
     "data": {
      "text/plain": [
       "-7.603200543605137"
      ]
     },
     "execution_count": 47,
     "metadata": {},
     "output_type": "execute_result"
    }
   ],
   "source": [
    "# Quadratic solution 2\n",
    "\n",
    "Z2=(-E-np.sqrt(E**2+4*A*B))/(2*A)\n",
    "\n",
    "Z2"
   ]
  },
  {
   "cell_type": "markdown",
   "metadata": {},
   "source": [
    "\n",
    "\n",
    "$Z=\\frac{a}{b^{*}}$\n",
    "\n",
    "$b^*=\\frac{a}{Z}$"
   ]
  },
  {
   "cell_type": "markdown",
   "metadata": {},
   "source": [
    "\n",
    "$|a|^2+|b|^2=1$\n",
    "\n",
    "$|a|^2+|\\frac{a}{Z}|^2=1$\n",
    "\n",
    "$|a|^2|Z|^2+|a|^2=|Z^2|$\n",
    "\n",
    "$|a|^2(|Z|^2+1)=|Z^2|$\n",
    "\n",
    "$|a|^2=\\frac{|Z^2|}{|Z|^2+1}$\n",
    "\n",
    "$|a|=\\sqrt{\\frac{|Z^2|}{|Z|^2+1}}$"
   ]
  },
  {
   "cell_type": "code",
   "execution_count": 48,
   "metadata": {},
   "outputs": [
    {
     "data": {
      "text/plain": [
       "0.13040053212483543"
      ]
     },
     "execution_count": 48,
     "metadata": {},
     "output_type": "execute_result"
    }
   ],
   "source": [
    "#First value of a\n",
    "\n",
    "a1=np.sqrt((Z1**2)/(Z1**2+1))\n",
    "a1"
   ]
  },
  {
   "cell_type": "code",
   "execution_count": 49,
   "metadata": {},
   "outputs": [
    {
     "data": {
      "text/plain": [
       "0.9914613967379465"
      ]
     },
     "execution_count": 49,
     "metadata": {},
     "output_type": "execute_result"
    }
   ],
   "source": [
    "#Second value of a\n",
    "\n",
    "a2=np.sqrt((-Z2)**2/((-Z2)**2+1))\n",
    "a2"
   ]
  },
  {
   "cell_type": "code",
   "execution_count": 50,
   "metadata": {},
   "outputs": [
    {
     "name": "stdout",
     "output_type": "stream",
     "text": [
      "0.9914613967379465\n",
      "-0.13040053212483524\n"
     ]
    }
   ],
   "source": [
    "#values of b\n",
    "\n",
    "b1=a1/Z1\n",
    "b2=a2/Z2\n",
    "print(b1)\n",
    "print(b2)"
   ]
  },
  {
   "cell_type": "markdown",
   "metadata": {},
   "source": [
    "We have a and b. Either pair can find the unitary matrix U. In this problem we choose a1 and b1.\n",
    "\n",
    "\n",
    "\n",
    "\n",
    "$U=\\begin{pmatrix}a&-b^*\\\\b&a^*\\end{pmatrix}$"
   ]
  },
  {
   "cell_type": "code",
   "execution_count": 51,
   "metadata": {},
   "outputs": [
    {
     "data": {
      "text/plain": [
       "[[0.13040053212483543, -0.9914613967379465],\n",
       " [0.9914613967379465, 0.13040053212483543]]"
      ]
     },
     "execution_count": 51,
     "metadata": {},
     "output_type": "execute_result"
    }
   ],
   "source": [
    "# First unitary u\n",
    "\n",
    "U=[[a1,-b1],[b1,a1]]\n",
    "U"
   ]
  },
  {
   "cell_type": "markdown",
   "metadata": {},
   "source": [
    "## Second unitary"
   ]
  },
  {
   "cell_type": "markdown",
   "metadata": {},
   "source": [
    "We can pick positive real numbers $\\lambda$ and $\\mu$ so that $|\\psi''>= |\\psi'>/\\lambda$ and\n",
    "$|\\phi''>= |\\phi'>/\\mu$ are unit vectors, making $|\\psi''>$ and $|\\phi''>$ an orthonormal\n",
    "pair. They are therefore related to $|0>$ and $|1>$ by a unitary transformation v :\n",
    "\n",
    "$|\\psi''>=V|0>$ and $|\\phi''>=V|1>$"
   ]
  },
  {
   "cell_type": "markdown",
   "metadata": {},
   "source": [
    "\n",
    "$V|0>=|\\psi''>$\n",
    "\n",
    "$=\\frac{|\\psi'>}{\\lambda}$\n",
    "\n",
    "$=\\frac{1}{\\lambda}(a|\\psi > -b^*|\\phi>)$\n",
    "\n",
    "$=\\frac{1}{\\lambda}[a(\\alpha_{00}|0>+\\alpha_{01}|1>)-b^*(\\alpha_{10}|0>+\\alpha_{11}|1>)]$\n",
    "\n",
    "$=\\frac{1}{\\lambda}[a\\alpha_{00}|0>+a\\alpha_{01}|1>)-b^*\\alpha_{10}|0>-b^*\\alpha_{11}|1>]$\n",
    "\n",
    "$=\\frac{1}{\\lambda}[(a\\alpha_{00}-b^*\\alpha_{10})|0>+(a\\alpha_{01}-b^*\\alpha_{11})|1>]$\n",
    "\n",
    "$=\\frac{1}{\\lambda}\\begin{pmatrix}a\\alpha_{00}-b^*\\alpha_{10}\\\\a\\alpha_{01}-b^*\\alpha_{11}\\end{pmatrix}$"
   ]
  },
  {
   "cell_type": "markdown",
   "metadata": {},
   "source": [
    "\n",
    "$V|1>=|\\phi''>$\n",
    "\n",
    "$=\\frac{|\\phi'>}{\\mu}$\n",
    "\n",
    "$=\\frac{1}{\\mu}(b|\\psi > +a^*|\\phi>)$\n",
    "\n",
    "$=\\frac{1}{\\mu}[b(\\alpha_{00}|0>+\\alpha_{01}|1>)+a^*(\\alpha_{10}|0>+\\alpha_{11}|1>)]$\n",
    "\n",
    "$=\\frac{1}{\\mu}[b\\alpha_{00}|0>+b\\alpha_{01}|1>)+a^*\\alpha_{10}|0>+a^*\\alpha_{11}|1>]$\n",
    "\n",
    "$=\\frac{1}{\\mu}[(b\\alpha_{00}+a^*\\alpha_{10})|0>+(b\\alpha_{01}+a^*\\alpha_{11})|1>]$\n",
    "\n",
    "$=\\frac{1}{\\mu}\\begin{pmatrix}b\\alpha_{00}+a^*\\alpha_{10}\\\\b~\\alpha_{01}+a^*\\alpha_{11}\\end{pmatrix}$"
   ]
  },
  {
   "cell_type": "markdown",
   "metadata": {},
   "source": [
    "### For easy check\n",
    "\n",
    "Let $X=a\\alpha_{00}-b^*\\alpha_{10}$ and $Y=a\\alpha_{01}-b^*\\alpha_{11}$\n",
    "\n",
    "\n",
    "$V|0>=\\frac{1}{\\lambda}\\begin{pmatrix}a\\alpha_{00}-b^*\\alpha_{10}\\\\a\\alpha_{01}-b^*\\alpha_{11}\\end{pmatrix}=\\frac{1}{\\lambda}\\begin{pmatrix}X\\\\Y\\end{pmatrix}$\n",
    "\n",
    "Let $Z=b\\alpha_{00}+a^*\\alpha_{10}$ and $K=b~\\alpha_{01}+a^*\\alpha_{11}$\n",
    "\n",
    "\n",
    "$V|1>=\\frac{1}{\\mu}\\begin{pmatrix}b\\alpha_{00}+a^*\\alpha_{10}\\\\a\\alpha_{01}-b^*\\alpha_{11}\\end{pmatrix}=\\frac{1}{\\mu}\\begin{pmatrix}Z\\\\K\\end{pmatrix}$"
   ]
  },
  {
   "cell_type": "code",
   "execution_count": 52,
   "metadata": {},
   "outputs": [
    {
     "name": "stdout",
     "output_type": "stream",
     "text": [
      "X= -0.00887967825144298\n",
      "Y= 0.020009998010686418\n",
      "Z= 0.9138238286136439\n",
      "K= 0.405520358985421\n"
     ]
    }
   ],
   "source": [
    "# Elements of |\\psi_prime>\n",
    "\n",
    "X= a1*alpha_00-b1*alpha_10\n",
    "Y= a1*alpha_01-b1*alpha_11\n",
    "\n",
    "# Elements of |\\phi_prime>\n",
    "Z= b1*alpha_00+a1*alpha_10\n",
    "K= b1*alpha_01+a1*alpha_11\n",
    "print('X=',X)\n",
    "print('Y=',Y)\n",
    "print('Z=',Z)\n",
    "print('K=',K)"
   ]
  },
  {
   "cell_type": "markdown",
   "metadata": {},
   "source": [
    "A unit vector is a vector of unit length. Any non zero vector can be normalised into a unit vector by its norm. The unit vector must have a magnitude of 1. To convert to a vector to its unit vector find the norm and divide the vector components by the norm.\n",
    "\n",
    "In our case the $\\lambda$ and $\\mu$ are the norms that transforms our vectors into a unit vector."
   ]
  },
  {
   "cell_type": "code",
   "execution_count": 53,
   "metadata": {},
   "outputs": [
    {
     "data": {
      "text/plain": [
       "0.021891749729905645"
      ]
     },
     "execution_count": 53,
     "metadata": {},
     "output_type": "execute_result"
    }
   ],
   "source": [
    "# Norm of Vector |\\phi_prime>\n",
    "\n",
    "lambda_norm=np.sqrt(X**2+Y**2)\n",
    "lambda_norm"
   ]
  },
  {
   "cell_type": "code",
   "execution_count": 54,
   "metadata": {},
   "outputs": [
    {
     "data": {
      "text/plain": [
       "0.9997603469300845"
      ]
     },
     "execution_count": 54,
     "metadata": {},
     "output_type": "execute_result"
    }
   ],
   "source": [
    "# Norm of Vector v|1> \n",
    "\n",
    "mu_norm=np.sqrt(Z**2+K**2)\n",
    "mu_norm"
   ]
  },
  {
   "cell_type": "markdown",
   "metadata": {},
   "source": [
    "We can define new values of X,Y,Z and K which we will devide by the calculated values of $\\lambda$ and $\\mu$."
   ]
  },
  {
   "cell_type": "code",
   "execution_count": 55,
   "metadata": {},
   "outputs": [
    {
     "name": "stdout",
     "output_type": "stream",
     "text": [
      "X1= -0.4056175664804319\n",
      "Y1= 0.9140428817963041\n",
      "Z1= 0.9140428817963008\n",
      "K1= 0.4056175664804397\n"
     ]
    }
   ],
   "source": [
    "# Elements of |\\psi_double_prime>\n",
    "\n",
    "X1= X/lambda_norm\n",
    "Y1= Y/lambda_norm\n",
    "\n",
    "# Elements of |\\phi_double_prime>\n",
    "\n",
    "Z1= Z/mu_norm\n",
    "K1= K/mu_norm\n",
    "print('X1=',X1)\n",
    "print('Y1=',Y1)\n",
    "print('Z1=',Z1)                                                                                                           \n",
    "print('K1=',K1)"
   ]
  },
  {
   "cell_type": "markdown",
   "metadata": {},
   "source": [
    "\n",
    "$V|0>=\\begin{pmatrix}X1\\\\Y1\\end{pmatrix}$\n",
    "\n",
    "$V|1>=\\begin{pmatrix}Z1\\\\K1\\end{pmatrix}$\n",
    "\n",
    "Therefore V is\n",
    "\n",
    "\n",
    "$V=\\begin{pmatrix}X1&Z1\\\\Y1&K1\\end{pmatrix}$"
   ]
  },
  {
   "cell_type": "code",
   "execution_count": 56,
   "metadata": {},
   "outputs": [
    {
     "data": {
      "text/plain": [
       "[[-0.4056175664804319, 0.9140428817963008],\n",
       " [0.9140428817963041, 0.4056175664804397]]"
      ]
     },
     "execution_count": 56,
     "metadata": {},
     "output_type": "execute_result"
    }
   ],
   "source": [
    "#second unitary\n",
    "\n",
    "V=[[X1,Z1],[Y1,K1]]\n",
    "V"
   ]
  },
  {
   "cell_type": "markdown",
   "metadata": {},
   "source": [
    "## Third unitary"
   ]
  },
  {
   "cell_type": "markdown",
   "metadata": {},
   "source": [
    "Since $| \\psi>$ is a unit vector and unitary transformations preserve unit\n",
    "vectors, it follows that $\\lambda|0> + \\mu|1>$ is a unit vector. It can\n",
    "therefore be obtained from $|0>$ by a unitary transformation w .\n",
    "\n",
    "\n",
    "\n",
    "$W=\\begin{pmatrix}\\lambda&-\\mu\\\\\\mu&\\lambda\\end{pmatrix}$"
   ]
  },
  {
   "cell_type": "code",
   "execution_count": 57,
   "metadata": {},
   "outputs": [
    {
     "data": {
      "text/plain": [
       "[[0.021891749729905645, -0.9997603469300845],\n",
       " [0.9997603469300845, 0.021891749729905645]]"
      ]
     },
     "execution_count": 57,
     "metadata": {},
     "output_type": "execute_result"
    }
   ],
   "source": [
    "# Third unitary\n",
    "\n",
    "W=[[lambda_norm,-mu_norm],[mu_norm,lambda_norm]]\n",
    "W"
   ]
  },
  {
   "cell_type": "markdown",
   "metadata": {},
   "source": [
    "### Verifying if the operators are correct\n",
    "\n",
    "$(U^{-1}\\otimes V)C_{10}(W\\otimes I)|00>=V|00>$"
   ]
  },
  {
   "cell_type": "markdown",
   "metadata": {},
   "source": [
    "We have all the unitaries that we want. To verify we recall the original operator of our problem.\n",
    "\n",
    "\n",
    "$V|00>=\\frac{1}{\\sqrt{c_0+c_1+c_2+c_3}}(\\sqrt{c_0}|00>+\\sqrt{c_1}|01>+\\sqrt{c_2}|10>+\\sqrt{c_3}|11>)$\n",
    "\n",
    "$=\\begin{pmatrix}\\alpha_{00}\\\\\\alpha_{01}\\\\\\alpha_{10}\\\\\\alpha_{11}\\end{pmatrix}$"
   ]
  },
  {
   "cell_type": "markdown",
   "metadata": {},
   "source": [
    "Let Result= $V|00>$"
   ]
  },
  {
   "cell_type": "code",
   "execution_count": 58,
   "metadata": {},
   "outputs": [
    {
     "data": {
      "text/plain": [
       "[[0.9048631347206157],\n",
       " [0.40466709591376937],\n",
       " [0.1279669717213328],\n",
       " [0.033040930022754496]]"
      ]
     },
     "execution_count": 58,
     "metadata": {},
     "output_type": "execute_result"
    }
   ],
   "source": [
    "Result=[[alpha_00],[alpha_01],[alpha_10],[alpha_11]]\n",
    "Result"
   ]
  },
  {
   "cell_type": "markdown",
   "metadata": {},
   "source": [
    "### Check $(U^{-1}\\otimes V)C_{10}(W\\otimes I)|0>\\otimes |0>$"
   ]
  },
  {
   "cell_type": "code",
   "execution_count": 59,
   "metadata": {},
   "outputs": [
    {
     "data": {
      "text/plain": [
       "array([[ 0.13040053,  0.9914614 ],\n",
       "       [-0.9914614 ,  0.13040053]])"
      ]
     },
     "execution_count": 59,
     "metadata": {},
     "output_type": "execute_result"
    }
   ],
   "source": [
    "#Inverse of U\n",
    "\n",
    "U_inverse=np.linalg.inv(U)\n",
    "U_inverse"
   ]
  },
  {
   "cell_type": "code",
   "execution_count": 60,
   "metadata": {},
   "outputs": [
    {
     "data": {
      "text/plain": [
       "[[1, 0], [0, 1]]"
      ]
     },
     "execution_count": 60,
     "metadata": {},
     "output_type": "execute_result"
    }
   ],
   "source": [
    "#Identinty\n",
    "I=[[1,0,],[0,1]]\n",
    "I"
   ]
  },
  {
   "cell_type": "code",
   "execution_count": 61,
   "metadata": {},
   "outputs": [
    {
     "data": {
      "text/plain": [
       "array([[-0.05289275,  0.11919168, -0.40215416,  0.90623823],\n",
       "       [ 0.11919168,  0.05289275,  0.90623823,  0.40215416],\n",
       "       [ 0.40215416, -0.90623823, -0.05289275,  0.11919168],\n",
       "       [-0.90623823, -0.40215416,  0.11919168,  0.05289275]])"
      ]
     },
     "execution_count": 61,
     "metadata": {},
     "output_type": "execute_result"
    }
   ],
   "source": [
    "#Tensor product of U^{-1} and V\n",
    "\n",
    "U1=np.kron(U_inverse,V)\n",
    "U1"
   ]
  },
  {
   "cell_type": "code",
   "execution_count": 62,
   "metadata": {},
   "outputs": [
    {
     "data": {
      "text/plain": [
       "array([[ 0.02189175,  0.        , -0.99976035, -0.        ],\n",
       "       [ 0.        ,  0.02189175, -0.        , -0.99976035],\n",
       "       [ 0.99976035,  0.        ,  0.02189175,  0.        ],\n",
       "       [ 0.        ,  0.99976035,  0.        ,  0.02189175]])"
      ]
     },
     "execution_count": 62,
     "metadata": {},
     "output_type": "execute_result"
    }
   ],
   "source": [
    "#Tensor product of W and I\n",
    "\n",
    "U2=np.kron(W,I)\n",
    "U2"
   ]
  },
  {
   "cell_type": "markdown",
   "metadata": {},
   "source": [
    "\n",
    "$|0>$"
   ]
  },
  {
   "cell_type": "code",
   "execution_count": 63,
   "metadata": {},
   "outputs": [
    {
     "data": {
      "text/plain": [
       "[[1], [0]]"
      ]
     },
     "execution_count": 63,
     "metadata": {},
     "output_type": "execute_result"
    }
   ],
   "source": [
    "# |0>\n",
    "ket1=[[1],[0]]\n",
    "ket1"
   ]
  },
  {
   "cell_type": "markdown",
   "metadata": {},
   "source": [
    "\n",
    "\n",
    "$|0>\\otimes|0>=|00>$"
   ]
  },
  {
   "cell_type": "code",
   "execution_count": 64,
   "metadata": {
    "scrolled": true
   },
   "outputs": [
    {
     "data": {
      "text/plain": [
       "array([[1],\n",
       "       [0],\n",
       "       [0],\n",
       "       [0]])"
      ]
     },
     "execution_count": 64,
     "metadata": {},
     "output_type": "execute_result"
    }
   ],
   "source": [
    "ket2=np.kron(ket1,ket1)\n",
    "ket2"
   ]
  },
  {
   "cell_type": "markdown",
   "metadata": {},
   "source": [
    "\n",
    "$C_{10}$"
   ]
  },
  {
   "cell_type": "code",
   "execution_count": 65,
   "metadata": {},
   "outputs": [
    {
     "data": {
      "text/plain": [
       "[[1, 0, 0, 0], [0, 1, 0, 0], [0, 0, 0, 1], [0, 0, 1, 0]]"
      ]
     },
     "execution_count": 65,
     "metadata": {},
     "output_type": "execute_result"
    }
   ],
   "source": [
    "C_10=[[1,0,0,0],[0,1,0,0],[0,0,0,1],[0,0,1,0]]\n",
    "C_10"
   ]
  },
  {
   "cell_type": "markdown",
   "metadata": {},
   "source": [
    "\n",
    "$(W\\otimes I)|00>$"
   ]
  },
  {
   "cell_type": "code",
   "execution_count": 66,
   "metadata": {},
   "outputs": [
    {
     "data": {
      "text/plain": [
       "array([[0.02189175],\n",
       "       [0.        ],\n",
       "       [0.99976035],\n",
       "       [0.        ]])"
      ]
     },
     "execution_count": 66,
     "metadata": {},
     "output_type": "execute_result"
    }
   ],
   "source": [
    "# \n",
    "S=np.dot(U2,ket2)\n",
    "S"
   ]
  },
  {
   "cell_type": "markdown",
   "metadata": {},
   "source": [
    "\n",
    "$C_{10}(W\\otimes I)|00>$"
   ]
  },
  {
   "cell_type": "code",
   "execution_count": 67,
   "metadata": {},
   "outputs": [
    {
     "data": {
      "text/plain": [
       "array([[0.02189175],\n",
       "       [0.        ],\n",
       "       [0.        ],\n",
       "       [0.99976035]])"
      ]
     },
     "execution_count": 67,
     "metadata": {},
     "output_type": "execute_result"
    }
   ],
   "source": [
    "\n",
    "T=np.dot(C_10,S)\n",
    "T"
   ]
  },
  {
   "cell_type": "markdown",
   "metadata": {},
   "source": [
    "\n",
    "$(U^{-1}\\otimes V)C_{10}(W\\otimes I)|00>$"
   ]
  },
  {
   "cell_type": "code",
   "execution_count": 68,
   "metadata": {},
   "outputs": [
    {
     "data": {
      "text/plain": [
       "array([[0.90486313],\n",
       "       [0.4046671 ],\n",
       "       [0.12796697],\n",
       "       [0.03304093]])"
      ]
     },
     "execution_count": 68,
     "metadata": {},
     "output_type": "execute_result"
    }
   ],
   "source": [
    "np.dot(U1,T)"
   ]
  },
  {
   "cell_type": "code",
   "execution_count": 69,
   "metadata": {},
   "outputs": [
    {
     "data": {
      "text/plain": [
       "[[0.9048631347206157],\n",
       " [0.40466709591376937],\n",
       " [0.1279669717213328],\n",
       " [0.033040930022754496]]"
      ]
     },
     "execution_count": 69,
     "metadata": {},
     "output_type": "execute_result"
    }
   ],
   "source": [
    "Result"
   ]
  },
  {
   "cell_type": "markdown",
   "metadata": {},
   "source": [
    "##### The results agree :)  This means the unitary transformations are correct. Next we convert them to the language qiskit understands. We will use the most general unitary."
   ]
  },
  {
   "cell_type": "markdown",
   "metadata": {},
   "source": [
    "### V unitary"
   ]
  },
  {
   "cell_type": "code",
   "execution_count": 70,
   "metadata": {},
   "outputs": [
    {
     "data": {
      "text/plain": [
       "array([[ 0.40561757, -0.91404288],\n",
       "       [-0.91404288, -0.40561757]])"
      ]
     },
     "execution_count": 70,
     "metadata": {},
     "output_type": "execute_result"
    }
   ],
   "source": [
    "np.dot(-1,V)"
   ]
  },
  {
   "cell_type": "markdown",
   "metadata": {},
   "source": [
    "The most general unitary using the $u_3$ gate\n",
    "\\begin{align*}\n",
    "U=\\begin{pmatrix} \\cos(\\frac{\\theta}{2})&-e^{i\\lambda}\\sin(\\frac{\\theta}{2})\\\\\n",
    "e^{i\\phi}\\sin(\\frac{\\theta}{2})&e^{i\\lambda+i\\phi}\\cos(\\frac{\\theta}{2})\\end{pmatrix}\n",
    "\\end{align*}\n",
    "\n",
    "All the gates will be of this form but with different angles $(\\theta,\\phi,\\lambda)$\n",
    "\n",
    "The most general form is called u3 and can be written as\n",
    "\n",
    "$u3(\\theta,\\phi,\\lambda)=U(\\theta,\\phi,\\lambda)$"
   ]
  },
  {
   "cell_type": "markdown",
   "metadata": {},
   "source": [
    "$\\cos(\\frac{\\theta}{2})=0.4056$\n",
    "\n",
    "$\\theta=2\\cos^{-1}(0.4056)$\n",
    "\n",
    "### $\\lambda$\n",
    "\n",
    "$-0.91404288=-e^{i\\lambda}\\sin(\\frac{\\theta}{2})\\\\\\\\\n",
    "=(-\\cos \\lambda -i\\sin \\lambda)\\sin(\\frac{\\theta}{2})$\n",
    "\n",
    "$-i\\sin \\lambda \\sin(\\frac{\\theta}{2})=0$\n",
    "\n",
    "$\\sin \\lambda=0$\n",
    "\n",
    "$\\lambda=\\sin^{-1}0=0=\\pi$\n",
    "\n",
    "## $\\phi$\n",
    "\n",
    "$-0.91404288=e^{i\\phi}\\sin(\\frac{\\theta}{2})\\\\\\\\\n",
    "=(\\cos \\phi +i\\sin \\phi)\\sin(\\frac{\\theta}{2})$\n",
    "\n",
    "$i\\sin \\phi \\sin(\\frac{\\theta}{2})=0$\n",
    "\n",
    "$\\sin \\phi=0$\n",
    "\n",
    "$\\phi=\\sin^{-1}0=\\pi=0$"
   ]
  },
  {
   "cell_type": "code",
   "execution_count": 71,
   "metadata": {},
   "outputs": [],
   "source": [
    "import math\n",
    "from math import pi\n",
    "\n",
    "from qiskit import QuantumCircuit, ClassicalRegister, QuantumRegister, execute\n",
    "\n",
    "from qiskit import BasicAer"
   ]
  },
  {
   "cell_type": "code",
   "execution_count": 72,
   "metadata": {},
   "outputs": [],
   "source": [
    "backend = BasicAer.get_backend('unitary_simulator')"
   ]
  },
  {
   "cell_type": "code",
   "execution_count": 73,
   "metadata": {},
   "outputs": [
    {
     "data": {
      "text/plain": [
       "2.3062839091865723"
      ]
     },
     "execution_count": 73,
     "metadata": {},
     "output_type": "execute_result"
    }
   ],
   "source": [
    "# Theta for u3\n",
    "\n",
    "theta1= 2*math.acos(0.4056175664804319)\n",
    "theta1"
   ]
  },
  {
   "cell_type": "code",
   "execution_count": 74,
   "metadata": {},
   "outputs": [
    {
     "data": {
      "text/plain": [
       "0.0"
      ]
     },
     "execution_count": 74,
     "metadata": {},
     "output_type": "execute_result"
    }
   ],
   "source": [
    "#lambda for u3\n",
    "\n",
    "lambd=math.asin(0)\n",
    "lambd"
   ]
  },
  {
   "cell_type": "markdown",
   "metadata": {},
   "source": [
    "u3(θ,ϕ,λ)=U(θ,ϕ,λ)"
   ]
  },
  {
   "cell_type": "markdown",
   "metadata": {},
   "source": [
    "##### Checking if u3  for unitary v is correct"
   ]
  },
  {
   "cell_type": "code",
   "execution_count": 75,
   "metadata": {},
   "outputs": [],
   "source": [
    "# Registers\n",
    "q_reg = QuantumRegister(1)"
   ]
  },
  {
   "cell_type": "code",
   "execution_count": 76,
   "metadata": {},
   "outputs": [
    {
     "data": {
      "image/png": "[encoded data removed]",
      "text/plain": [
       "<Figure size 159.778x84.28 with 1 Axes>"
      ]
     },
     "execution_count": 76,
     "metadata": {},
     "output_type": "execute_result"
    }
   ],
   "source": [
    "# Circuit\n",
    "\n",
    "q_circuit = QuantumCircuit(q_reg)\n",
    "q_circuit.u3(theta1,pi,0,q_reg)\n",
    "q_circuit.draw('mpl')"
   ]
  },
  {
   "cell_type": "code",
   "execution_count": 77,
   "metadata": {},
   "outputs": [
    {
     "data": {
      "text/plain": [
       "array([[ 0.406+0.j, -0.914+0.j],\n",
       "       [-0.914+0.j, -0.406+0.j]])"
      ]
     },
     "execution_count": 77,
     "metadata": {},
     "output_type": "execute_result"
    }
   ],
   "source": [
    "# Unitary simulator\n",
    "\n",
    "job = execute(q_circuit, backend)\n",
    "job.result().get_unitary(q_circuit, decimals=3)"
   ]
  },
  {
   "cell_type": "code",
   "execution_count": 78,
   "metadata": {},
   "outputs": [
    {
     "data": {
      "text/plain": [
       "array([[ 0.40561757, -0.91404288],\n",
       "       [-0.91404288, -0.40561757]])"
      ]
     },
     "execution_count": 78,
     "metadata": {},
     "output_type": "execute_result"
    }
   ],
   "source": [
    "# The operators agree\n",
    "np.dot(-1,V)"
   ]
  },
  {
   "cell_type": "markdown",
   "metadata": {},
   "source": [
    "### U_inverse "
   ]
  },
  {
   "cell_type": "code",
   "execution_count": 79,
   "metadata": {},
   "outputs": [
    {
     "data": {
      "text/plain": [
       "array([[ 0.13040053,  0.9914614 ],\n",
       "       [-0.9914614 ,  0.13040053]])"
      ]
     },
     "execution_count": 79,
     "metadata": {},
     "output_type": "execute_result"
    }
   ],
   "source": [
    "U_inverse"
   ]
  },
  {
   "cell_type": "markdown",
   "metadata": {},
   "source": [
    "$U=\\begin{pmatrix} \\cos(\\frac{\\theta}{2})&-e^{i\\lambda}\\sin(\\frac{\\theta}{2})\\\\\n",
    "e^{i\\phi}\\sin(\\frac{\\theta}{2})&e^{i\\lambda+i\\phi}\\cos(\\frac{\\theta}{2})\\end{pmatrix}$\n",
    "\n",
    "$\\cos(\\frac{\\theta}{2})=0.13040053$\n",
    "\n",
    "$\\theta=2\\cos^{-1}(0.13040053)$\n",
    "\n",
    "### $\\lambda$\n",
    "\n",
    "$0.9914614 =-e^{i\\lambda}\\sin(\\frac{\\theta}{2})$\n",
    "\n",
    "$=(-\\cos \\lambda -i\\sin \\lambda)\\sin(\\frac{\\theta}{2})$\n",
    "\n",
    "$-i\\sin \\lambda \\sin(\\frac{\\theta}{2})=0$\n",
    "\n",
    "$\\sin \\lambda=0$\n",
    "\n",
    "$\\lambda=\\sin^{-1}0=0$\n",
    "\n",
    "## $\\phi$\n",
    "\n",
    "$0.9914614 =e^{i\\phi}\\sin(\\frac{\\theta}{2})\\\\\\\\\n",
    "=(\\cos \\phi +i\\sin \\phi)\\sin(\\frac{\\theta}{2})$\n",
    "\n",
    "$i\\sin \\phi \\sin(\\frac{\\theta}{2})=0=\\pi$\n",
    "\n",
    "$\\sin \\phi=0$\n",
    "\n",
    "$\\phi=\\sin^{-1}0=0=\\pi$"
   ]
  },
  {
   "cell_type": "code",
   "execution_count": 80,
   "metadata": {},
   "outputs": [
    {
     "data": {
      "text/plain": [
       "2.880046756785191"
      ]
     },
     "execution_count": 80,
     "metadata": {},
     "output_type": "execute_result"
    }
   ],
   "source": [
    "# Theta\n",
    "\n",
    "theta2= 2*math.acos(0.13040053)\n",
    "theta2"
   ]
  },
  {
   "cell_type": "code",
   "execution_count": 81,
   "metadata": {},
   "outputs": [
    {
     "data": {
      "image/png": "[encoded data removed]",
      "text/plain": [
       "<Figure size 159.778x84.28 with 1 Axes>"
      ]
     },
     "execution_count": 81,
     "metadata": {},
     "output_type": "execute_result"
    }
   ],
   "source": [
    "q_circuit = QuantumCircuit(q_reg)\n",
    "q_circuit.u3(theta2,pi,pi,q_reg)\n",
    "q_circuit.draw('mpl')"
   ]
  },
  {
   "cell_type": "code",
   "execution_count": 82,
   "metadata": {},
   "outputs": [
    {
     "data": {
      "text/plain": [
       "array([[ 0.13 +0.j,  0.991-0.j],\n",
       "       [-0.991+0.j,  0.13 -0.j]])"
      ]
     },
     "execution_count": 82,
     "metadata": {},
     "output_type": "execute_result"
    }
   ],
   "source": [
    "job = execute(q_circuit, backend)\n",
    "job.result().get_unitary(q_circuit, decimals=3)"
   ]
  },
  {
   "cell_type": "code",
   "execution_count": 83,
   "metadata": {},
   "outputs": [
    {
     "data": {
      "text/plain": [
       "array([[ 0.13040053,  0.9914614 ],\n",
       "       [-0.9914614 ,  0.13040053]])"
      ]
     },
     "execution_count": 83,
     "metadata": {},
     "output_type": "execute_result"
    }
   ],
   "source": [
    "# The operators agree\n",
    "\n",
    "U_inverse"
   ]
  },
  {
   "cell_type": "code",
   "execution_count": null,
   "metadata": {},
   "outputs": [],
   "source": []
  },
  {
   "cell_type": "markdown",
   "metadata": {},
   "source": [
    "### W unitary"
   ]
  },
  {
   "cell_type": "code",
   "execution_count": 84,
   "metadata": {},
   "outputs": [
    {
     "data": {
      "text/plain": [
       "[[0.021891749729905645, -0.9997603469300845],\n",
       " [0.9997603469300845, 0.021891749729905645]]"
      ]
     },
     "execution_count": 84,
     "metadata": {},
     "output_type": "execute_result"
    }
   ],
   "source": [
    "W"
   ]
  },
  {
   "cell_type": "code",
   "execution_count": 85,
   "metadata": {},
   "outputs": [
    {
     "data": {
      "text/plain": [
       "3.097805656177976"
      ]
     },
     "execution_count": 85,
     "metadata": {},
     "output_type": "execute_result"
    }
   ],
   "source": [
    "theta3= 2*math.acos(0.021891749729905645)\n",
    "theta3"
   ]
  },
  {
   "cell_type": "code",
   "execution_count": 86,
   "metadata": {},
   "outputs": [
    {
     "data": {
      "image/png": "[encoded data removed]",
      "text/plain": [
       "<Figure size 159.778x84.28 with 1 Axes>"
      ]
     },
     "execution_count": 86,
     "metadata": {},
     "output_type": "execute_result"
    }
   ],
   "source": [
    "q_circuit = QuantumCircuit(q_reg)\n",
    "q_circuit.u3(theta3,0,0,q_reg)\n",
    "q_circuit.draw('mpl')"
   ]
  },
  {
   "cell_type": "code",
   "execution_count": 87,
   "metadata": {},
   "outputs": [
    {
     "data": {
      "text/plain": [
       "array([[ 0.022+0.j, -1.   +0.j],\n",
       "       [ 1.   +0.j,  0.022+0.j]])"
      ]
     },
     "execution_count": 87,
     "metadata": {},
     "output_type": "execute_result"
    }
   ],
   "source": [
    "job = execute(q_circuit, backend)\n",
    "job.result().get_unitary(q_circuit, decimals=3)"
   ]
  },
  {
   "cell_type": "code",
   "execution_count": 88,
   "metadata": {},
   "outputs": [
    {
     "data": {
      "text/plain": [
       "[[0.021891749729905645, -0.9997603469300845],\n",
       " [0.9997603469300845, 0.021891749729905645]]"
      ]
     },
     "execution_count": 88,
     "metadata": {},
     "output_type": "execute_result"
    }
   ],
   "source": [
    "W"
   ]
  },
  {
   "cell_type": "code",
   "execution_count": 89,
   "metadata": {},
   "outputs": [
    {
     "data": {
      "text/plain": [
       "array([[ 0.13040053,  0.9914614 ],\n",
       "       [-0.9914614 ,  0.13040053]])"
      ]
     },
     "execution_count": 89,
     "metadata": {},
     "output_type": "execute_result"
    }
   ],
   "source": [
    "U_inverse"
   ]
  },
  {
   "cell_type": "markdown",
   "metadata": {},
   "source": [
    "# Running circuit two on qasm simulator"
   ]
  },
  {
   "cell_type": "code",
   "execution_count": 90,
   "metadata": {},
   "outputs": [],
   "source": [
    "from qiskit import BasicAer, execute\n",
    "from qiskit.visualization import plot_histogram\n",
    "\n"
   ]
  },
  {
   "cell_type": "code",
   "execution_count": 91,
   "metadata": {},
   "outputs": [],
   "source": [
    "backend_sim = BasicAer.get_backend('qasm_simulator')"
   ]
  },
  {
   "cell_type": "code",
   "execution_count": 92,
   "metadata": {},
   "outputs": [
    {
     "data": {
      "image/png": "[encoded data removed]",
      "text/plain": [
       "<Figure size 1661.98x565.88 with 1 Axes>"
      ]
     },
     "execution_count": 92,
     "metadata": {},
     "output_type": "execute_result"
    }
   ],
   "source": [
    "phi= np.arctan2(np.sqrt(c3),np.sqrt(c2))\n",
    "q = QuantumRegister(3)\n",
    "c = ClassicalRegister(3)\n",
    "qc = QuantumCircuit(q,c)\n",
    "\n",
    "#Angle for the Rotation gate\n",
    "Beta= pi/5\n",
    "\n",
    "# Operator V\n",
    "\n",
    "qc.u3(theta3,0,0,q[0]) #W\n",
    "qc.cx(q[0],q[1])\n",
    "qc.u3(theta1,pi,0,q[0]) # V\n",
    "qc.u3(theta2,pi,pi,q[1]) #U_inverse\n",
    "\n",
    "\n",
    "# R\n",
    "#First control is 1 and second control is 0\n",
    "qc.barrier(q[0],q[1],q[2])\n",
    "qc.x(q[1])\n",
    "qc.ry(Beta,q[2])\n",
    "qc.ccx(q[0],q[1],q[2])\n",
    "qc.ry(-Beta,q[2])\n",
    "qc.ccx(q[0],q[1],q[2])\n",
    "qc.x(q[1])\n",
    "\n",
    "qc.barrier(q[0],q[1],q[2])\n",
    "\n",
    "#R2\n",
    "#First control is 0 and second control is 1\n",
    "#qc.barrier(q[0],q[1],q[2])\n",
    "qc.x(q[0])\n",
    "qc.ry(2*Beta,q[2])\n",
    "qc.ccx(q[0],q[1],q[2])\n",
    "qc.ry(-2*Beta,q[2])\n",
    "qc.ccx(q[0],q[1],q[2])\n",
    "qc.x(q[0])\n",
    "\n",
    "#R3\n",
    "# Both controls are 1\n",
    "qc.barrier(q[0],q[1],q[2])\n",
    "\n",
    "qc.ry(3*Beta,q[2])\n",
    "qc.ccx(q[0],q[1],q[2])\n",
    "qc.ry(-3*Beta,q[2])\n",
    "qc.ccx(q[0],q[1],q[2])\n",
    "\n",
    "\n",
    "\n",
    "\n",
    "qc.barrier(q[0],q[1],q[2])\n",
    "\n",
    "# Operator V^{-1}\n",
    "qc.u3(-theta2,pi,pi,q[1]) #U_inverse\n",
    "qc.u3(-theta1,0,pi,q[0])  #V\n",
    "qc.cx(q[0],q[1])\n",
    "qc.u3(-theta3,0,0,q[0]) #W\n",
    "\n",
    "qc.barrier(q[0],q[1],q[2])\n",
    "\n",
    "qc.measure(q,c)\n",
    "qc.draw('mpl',initial_state=True)"
   ]
  },
  {
   "cell_type": "code",
   "execution_count": 93,
   "metadata": {},
   "outputs": [],
   "source": [
    " nshots=8192 #No. of simulations\n",
    "\n",
    "\n",
    "#Quasm simulator\n",
    "result = execute(qc, backend_sim, shots=nshots).result()\n",
    "counts = result.get_counts(qc)\n"
   ]
  },
  {
   "cell_type": "code",
   "execution_count": 94,
   "metadata": {},
   "outputs": [
    {
     "data": {
      "image/png": "[encoded data removed]",
      "text/plain": [
       "<Figure size 504x360 with 1 Axes>"
      ]
     },
     "execution_count": 94,
     "metadata": {},
     "output_type": "execute_result"
    }
   ],
   "source": [
    "#Results obtained after simulations \n",
    "#in all states of the ancilla qubit.\n",
    "\n",
    "\n",
    "plot_histogram(counts, color=\"darkgreen\")"
   ]
  },
  {
   "cell_type": "code",
   "execution_count": 95,
   "metadata": {},
   "outputs": [
    {
     "data": {
      "text/plain": [
       "{'000': 7457,\n",
       " '100': 112,\n",
       " '111': 397,\n",
       " '011': 43,\n",
       " '110': 106,\n",
       " '010': 60,\n",
       " '101': 17}"
      ]
     },
     "execution_count": 95,
     "metadata": {},
     "output_type": "execute_result"
    }
   ],
   "source": [
    "counts"
   ]
  },
  {
   "cell_type": "markdown",
   "metadata": {},
   "source": [
    "## Success probability"
   ]
  },
  {
   "cell_type": "markdown",
   "metadata": {},
   "source": [
    "### Experimental value for the success probability:"
   ]
  },
  {
   "cell_type": "code",
   "execution_count": 96,
   "metadata": {},
   "outputs": [],
   "source": [
    "count_000= counts.get('000')\n",
    "count_100=counts.get('100')"
   ]
  },
  {
   "cell_type": "code",
   "execution_count": 97,
   "metadata": {},
   "outputs": [
    {
     "data": {
      "text/plain": [
       "0.9239501953125"
      ]
     },
     "execution_count": 97,
     "metadata": {},
     "output_type": "execute_result"
    }
   ],
   "source": [
    "# Conditional probabibilties in state |0>\n",
    "p0 = count_000/nshots\n",
    "p1 = count_100/nshots\n",
    "\n",
    "# Success probability\n",
    "S_p_exp = p0+p1\n",
    "S_p_exp"
   ]
  },
  {
   "cell_type": "markdown",
   "metadata": {},
   "source": [
    "### Theoretical  success probability:"
   ]
  },
  {
   "cell_type": "markdown",
   "metadata": {},
   "source": [
    "Theoretical value for the success probability:"
   ]
  },
  {
   "cell_type": "code",
   "execution_count": 98,
   "metadata": {},
   "outputs": [
    {
     "data": {
      "image/png": "[encoded data removed]",
      "text/plain": [
       "<Figure size 159.778x84.28 with 1 Axes>"
      ]
     },
     "execution_count": 98,
     "metadata": {},
     "output_type": "execute_result"
    }
   ],
   "source": [
    "# Encoding matrix R, angle Beta=pi/5 was chosen\n",
    "\n",
    "q_circuit = QuantumCircuit(q_reg)\n",
    "q_circuit.ry(2*Beta,q_reg)\n",
    "q_circuit.draw('mpl')"
   ]
  },
  {
   "cell_type": "code",
   "execution_count": 99,
   "metadata": {},
   "outputs": [
    {
     "data": {
      "text/plain": [
       "array([[ 0.80901699, -0.58778525],\n",
       "       [ 0.58778525,  0.80901699]])"
      ]
     },
     "execution_count": 99,
     "metadata": {},
     "output_type": "execute_result"
    }
   ],
   "source": [
    "# The R matrix\n",
    "\n",
    "job = execute(q_circuit, backend)\n",
    "R=job.result().get_unitary(q_circuit)\n",
    "R=R.real\n",
    "R"
   ]
  },
  {
   "cell_type": "markdown",
   "metadata": {},
   "source": [
    "\\begin{align*}\n",
    "\\sum_{k=0}^{1}|<k|\\underline{\\psi}>|^2=\\frac{1}{(C_0+C_1+C_2+C_3)^2}[|<0|(C_0I+C_1R+C_2R^2+C_3R^3)|y(0)>|^2+|<1|(C_0I+C_1R+C_2R^2+C_3R^3)|y(0)>|^2]\\\\\\\\\n",
    "\\end{align*}\t"
   ]
  },
  {
   "cell_type": "markdown",
   "metadata": {},
   "source": [
    "$C_0I+C_1R+C_2R^2+C_3R^3$"
   ]
  },
  {
   "cell_type": "code",
   "execution_count": 100,
   "metadata": {},
   "outputs": [
    {
     "data": {
      "text/plain": [
       "array([[ 1.16757172, -0.13784626],\n",
       "       [ 0.13784626,  1.16757172]])"
      ]
     },
     "execution_count": 100,
     "metadata": {},
     "output_type": "execute_result"
    }
   ],
   "source": [
    "D=(np.dot(c0,I)+np.dot(c1,R)+np.dot(c2,np.dot(R,R))+np.dot(c3,np.dot(np.dot(R,R),R)))\n",
    "D"
   ]
  },
  {
   "cell_type": "markdown",
   "metadata": {},
   "source": [
    "$(C_0I+C_1R+C_2R^2+C_3R^3)|y(0)>$"
   ]
  },
  {
   "cell_type": "code",
   "execution_count": 101,
   "metadata": {},
   "outputs": [],
   "source": [
    "ket_0=[[1],[0]]"
   ]
  },
  {
   "cell_type": "code",
   "execution_count": 102,
   "metadata": {},
   "outputs": [
    {
     "data": {
      "text/plain": [
       "array([[1.16757172],\n",
       "       [0.13784626]])"
      ]
     },
     "execution_count": 102,
     "metadata": {},
     "output_type": "execute_result"
    }
   ],
   "source": [
    "a=np.dot(D,ket_0)\n",
    "a"
   ]
  },
  {
   "cell_type": "code",
   "execution_count": 103,
   "metadata": {},
   "outputs": [],
   "source": [
    "ket_01=[1,0]"
   ]
  },
  {
   "cell_type": "markdown",
   "metadata": {},
   "source": [
    "$<0|(C_0I+C_1R+C_2R^2+C_3R^3)|y(0)>$"
   ]
  },
  {
   "cell_type": "code",
   "execution_count": 104,
   "metadata": {},
   "outputs": [],
   "source": [
    "b=np.dot(ket_01,a)"
   ]
  },
  {
   "cell_type": "markdown",
   "metadata": {},
   "source": [
    "$|<0|(C_0I+C_1R+C_2R^2+C_3R^3)|y(0)>|^2$"
   ]
  },
  {
   "cell_type": "code",
   "execution_count": 105,
   "metadata": {},
   "outputs": [
    {
     "data": {
      "text/plain": [
       "array([1.36322371])"
      ]
     },
     "execution_count": 105,
     "metadata": {},
     "output_type": "execute_result"
    }
   ],
   "source": [
    "b**2"
   ]
  },
  {
   "cell_type": "markdown",
   "metadata": {},
   "source": [
    "$|<1|(C_0I+C_1R+C_2R^2+C_3R^3)|y(0)>|^2$"
   ]
  },
  {
   "cell_type": "code",
   "execution_count": 106,
   "metadata": {},
   "outputs": [],
   "source": [
    "ket_11=[0,1]"
   ]
  },
  {
   "cell_type": "code",
   "execution_count": 107,
   "metadata": {},
   "outputs": [
    {
     "data": {
      "text/plain": [
       "array([0.01900159])"
      ]
     },
     "execution_count": 107,
     "metadata": {},
     "output_type": "execute_result"
    }
   ],
   "source": [
    "c=np.dot(ket_11,a)\n",
    "c**2"
   ]
  },
  {
   "cell_type": "code",
   "execution_count": 108,
   "metadata": {},
   "outputs": [
    {
     "data": {
      "text/plain": [
       "array([1.3822253])"
      ]
     },
     "execution_count": 108,
     "metadata": {},
     "output_type": "execute_result"
    }
   ],
   "source": [
    "b**2+c**2"
   ]
  },
  {
   "cell_type": "markdown",
   "metadata": {},
   "source": [
    "###### Theoretical success probability"
   ]
  },
  {
   "cell_type": "code",
   "execution_count": 109,
   "metadata": {},
   "outputs": [
    {
     "data": {
      "text/plain": [
       "0.9266386661904186"
      ]
     },
     "execution_count": 109,
     "metadata": {},
     "output_type": "execute_result"
    }
   ],
   "source": [
    "# Theoretical success probability\n",
    "\n",
    "S_p=(b**2+c**2)/(c0+c1+c2+c3)**2\n",
    "S_p[0]"
   ]
  },
  {
   "cell_type": "code",
   "execution_count": 110,
   "metadata": {},
   "outputs": [
    {
     "data": {
      "text/plain": [
       "0.9239501953125"
      ]
     },
     "execution_count": 110,
     "metadata": {},
     "output_type": "execute_result"
    }
   ],
   "source": [
    "# Experimental Success probability\n",
    "\n",
    "S_p_exp = p0+p1\n",
    "S_p_exp"
   ]
  },
  {
   "cell_type": "markdown",
   "metadata": {},
   "source": [
    "###### Theoretical and experimental success probabilities agree :)"
   ]
  },
  {
   "cell_type": "markdown",
   "metadata": {},
   "source": [
    "### Solution to the differential equation"
   ]
  },
  {
   "cell_type": "markdown",
   "metadata": {},
   "source": [
    "#### Theoretical solution to the differential equation"
   ]
  },
  {
   "cell_type": "markdown",
   "metadata": {},
   "source": [
    "$C_0I+C_1R+C_2R^2+C_3R^3$"
   ]
  },
  {
   "cell_type": "code",
   "execution_count": 111,
   "metadata": {},
   "outputs": [
    {
     "data": {
      "text/plain": [
       "array([[ 1.16757172, -0.13784626],\n",
       "       [ 0.13784626,  1.16757172]])"
      ]
     },
     "execution_count": 111,
     "metadata": {},
     "output_type": "execute_result"
    }
   ],
   "source": [
    "# Let D=c0I + C1R + C2R^2 + C3R^3\n",
    "\n",
    "D=(np.dot(c0,I)+np.dot(c1,R)+np.dot(c2,np.dot(R,R))+np.dot(c3,np.dot(np.dot(R,R),R)))\n",
    "D"
   ]
  },
  {
   "cell_type": "markdown",
   "metadata": {},
   "source": [
    "$(C_0I+C_1R+C_2R^2+C_3R^3)|y(0)>$"
   ]
  },
  {
   "cell_type": "code",
   "execution_count": 112,
   "metadata": {},
   "outputs": [],
   "source": [
    "# |0>\n",
    "\n",
    "ket_0=[[1],[0]]"
   ]
  },
  {
   "cell_type": "code",
   "execution_count": 113,
   "metadata": {},
   "outputs": [
    {
     "data": {
      "text/plain": [
       "array([[1.16757172],\n",
       "       [0.13784626]])"
      ]
     },
     "execution_count": 113,
     "metadata": {},
     "output_type": "execute_result"
    }
   ],
   "source": [
    "# y(t) = (c0I + C1R + C2R^2 + C3R^3) |0>\n",
    "\n",
    "a=np.dot(D,ket_0)\n",
    "a"
   ]
  },
  {
   "cell_type": "code",
   "execution_count": 114,
   "metadata": {},
   "outputs": [],
   "source": [
    "y_0= 1.16757172\n",
    "y_1= 0.13784626"
   ]
  },
  {
   "cell_type": "code",
   "execution_count": 115,
   "metadata": {},
   "outputs": [
    {
     "data": {
      "text/plain": [
       "8.470100821016109"
      ]
     },
     "execution_count": 115,
     "metadata": {},
     "output_type": "execute_result"
    }
   ],
   "source": [
    "# Theoretical solution of the ODE\n",
    "\n",
    "Y = y_0/y_1\n",
    "Y"
   ]
  },
  {
   "cell_type": "markdown",
   "metadata": {},
   "source": [
    "## Experimental solution of the differential equation"
   ]
  },
  {
   "cell_type": "code",
   "execution_count": 116,
   "metadata": {},
   "outputs": [
    {
     "data": {
      "text/plain": [
       "8.159678740174588"
      ]
     },
     "execution_count": 116,
     "metadata": {},
     "output_type": "execute_result"
    }
   ],
   "source": [
    "# Experimental solution of the ODE\n",
    "\n",
    "Y_exp = np.sqrt(p0/p1)\n",
    "Y_exp"
   ]
  },
  {
   "cell_type": "code",
   "execution_count": 117,
   "metadata": {},
   "outputs": [
    {
     "data": {
      "text/plain": [
       "8.470100821016109"
      ]
     },
     "execution_count": 117,
     "metadata": {},
     "output_type": "execute_result"
    }
   ],
   "source": [
    "# Comparing with the theoretical\n",
    "\n",
    "Y = y_0/y_1\n",
    "Y"
   ]
  },
  {
   "cell_type": "markdown",
   "metadata": {},
   "source": [
    "# Running circuit two on the Statevector Simulator"
   ]
  },
  {
   "cell_type": "code",
   "execution_count": 118,
   "metadata": {},
   "outputs": [],
   "source": [
    "from qiskit.quantum_info import Statevector"
   ]
  },
  {
   "cell_type": "code",
   "execution_count": 119,
   "metadata": {},
   "outputs": [
    {
     "data": {
      "image/png": "[encoded data removed]",
      "text/plain": [
       "<Figure size 1617.85x264.88 with 1 Axes>"
      ]
     },
     "execution_count": 119,
     "metadata": {},
     "output_type": "execute_result"
    }
   ],
   "source": [
    "\n",
    "phi= np.arctan2(np.sqrt(c3),np.sqrt(c2))\n",
    "\n",
    "# Registers and circuit\n",
    "q = QuantumRegister(3)\n",
    "c = ClassicalRegister(3)\n",
    "qc = QuantumCircuit(q,c)\n",
    "\n",
    "#Angle for the Rotation gate\n",
    "\n",
    "Beta= pi/5\n",
    "\n",
    "\n",
    "qc.u3(theta3,0,0,q[0]) #W\n",
    "qc.cx(q[0],q[1])\n",
    "qc.u3(theta1,pi,0,q[0]) # V\n",
    "qc.u3(theta2,pi,pi,q[1]) #U_inverse\n",
    "\n",
    "#First control is 1 and second control is 0\n",
    "qc.barrier(q[0],q[1],q[2])\n",
    "qc.x(q[1])\n",
    "qc.ry(Beta,q[2])\n",
    "qc.ccx(q[0],q[1],q[2])\n",
    "qc.ry(-Beta,q[2])\n",
    "qc.ccx(q[0],q[1],q[2])\n",
    "qc.x(q[1])\n",
    "\n",
    "\n",
    "#First control is 0 and second control is 1\n",
    "qc.barrier(q[0],q[1],q[2])\n",
    "qc.x(q[0])\n",
    "qc.ry(2*Beta,q[2])\n",
    "qc.ccx(q[0],q[1],q[2])\n",
    "qc.ry(-2*Beta,q[2])\n",
    "qc.ccx(q[0],q[1],q[2])\n",
    "qc.x(q[0])\n",
    "\n",
    "\n",
    "# Both controls are 1\n",
    "qc.barrier(q[0],q[1],q[2])\n",
    "\n",
    "qc.ry(3*Beta,q[2])\n",
    "qc.ccx(q[0],q[1],q[2])\n",
    "qc.ry(-3*Beta,q[2])\n",
    "qc.ccx(q[0],q[1],q[2])\n",
    "\n",
    "\n",
    "\n",
    "\n",
    "qc.barrier(q[0],q[1],q[2])\n",
    "\n",
    "qc.u3(-theta2,pi,pi,q[1]) #U_inverse\n",
    "qc.u3(-theta1,0,pi,q[0])  #V\n",
    "qc.cx(q[0],q[1])\n",
    "qc.u3(-theta3,0,0,q[0]) #W\n",
    "\n",
    "qc.draw('mpl')"
   ]
  },
  {
   "cell_type": "markdown",
   "metadata": {},
   "source": [
    "Initial state:"
   ]
  },
  {
   "cell_type": "code",
   "execution_count": 120,
   "metadata": {},
   "outputs": [],
   "source": [
    "sv = Statevector.from_label('000')"
   ]
  },
  {
   "cell_type": "code",
   "execution_count": 121,
   "metadata": {},
   "outputs": [],
   "source": [
    "msv=sv.evolve(qc)"
   ]
  },
  {
   "cell_type": "code",
   "execution_count": 122,
   "metadata": {},
   "outputs": [
    {
     "data": {
      "text/plain": [
       "array([ 0.95598121-2.67583018e-16j,  0.00461297+1.46370171e-17j,\n",
       "        0.09187202-1.07034564e-17j,  0.07254507+5.37026529e-17j,\n",
       "        0.11286538-5.52806428e-17j, -0.04635716+7.22282698e-18j,\n",
       "       -0.10566253+4.13299450e-17j, -0.21522835+1.06280167e-16j])"
      ]
     },
     "execution_count": 122,
     "metadata": {},
     "output_type": "execute_result"
    }
   ],
   "source": [
    "msv.data"
   ]
  },
  {
   "cell_type": "code",
   "execution_count": 123,
   "metadata": {},
   "outputs": [],
   "source": [
    "result=msv.data.real"
   ]
  },
  {
   "cell_type": "code",
   "execution_count": 124,
   "metadata": {},
   "outputs": [
    {
     "name": "stdout",
     "output_type": "stream",
     "text": [
      "[ 0.95598121  0.00461297  0.09187202  0.07254507  0.11286538 -0.04635716\n",
      " -0.10566253 -0.21522835]\n"
     ]
    }
   ],
   "source": [
    "print(result)"
   ]
  },
  {
   "cell_type": "markdown",
   "metadata": {},
   "source": [
    "Operator for projecting the ancilla qubit to the state |00>:"
   ]
  },
  {
   "cell_type": "code",
   "execution_count": 125,
   "metadata": {},
   "outputs": [],
   "source": [
    "idmat=[[1,0],[0,1]]   #Indentity matrix\n",
    "proj=[[1,0],[0,0]]    # projection operator\n",
    "A=np.kron(idmat,proj) # Tensor product of I and proj\n",
    "B=np.kron(A,proj)     # Another tensor product"
   ]
  },
  {
   "cell_type": "code",
   "execution_count": 126,
   "metadata": {},
   "outputs": [],
   "source": [
    "proj_result=np.dot(B,result)  # Multiplying by the vector from the state vector simulation"
   ]
  },
  {
   "cell_type": "code",
   "execution_count": 127,
   "metadata": {},
   "outputs": [
    {
     "name": "stdout",
     "output_type": "stream",
     "text": [
      "[0.95598121 0.         0.         0.         0.11286538 0.\n",
      " 0.         0.        ]\n"
     ]
    }
   ],
   "source": [
    "print(proj_result)"
   ]
  },
  {
   "cell_type": "markdown",
   "metadata": {},
   "source": [
    "## Theoretical state vector"
   ]
  },
  {
   "cell_type": "code",
   "execution_count": 128,
   "metadata": {},
   "outputs": [],
   "source": [
    "# |0>\n",
    "\n",
    "ket_0=[[1],[0]]"
   ]
  },
  {
   "cell_type": "code",
   "execution_count": 129,
   "metadata": {},
   "outputs": [],
   "source": [
    "# (c0I + C1R + C2R^2 + C3R^3) |0> matrix mulitplication\n",
    "\n",
    "k=np.dot(D,ket_0)"
   ]
  },
  {
   "cell_type": "code",
   "execution_count": 130,
   "metadata": {},
   "outputs": [
    {
     "data": {
      "text/plain": [
       "array([[1.16757172],\n",
       "       [0.        ],\n",
       "       [0.13784626],\n",
       "       [0.        ]])"
      ]
     },
     "execution_count": 130,
     "metadata": {},
     "output_type": "execute_result"
    }
   ],
   "source": [
    "# Tensor product of (c0I + C1R + C2R^2 + C3R^3) |0>  and |0> \n",
    "\n",
    "r=np.kron(k,ket_0)\n",
    "r"
   ]
  },
  {
   "cell_type": "code",
   "execution_count": 131,
   "metadata": {},
   "outputs": [
    {
     "data": {
      "text/plain": [
       "array([[1.16757172],\n",
       "       [0.        ],\n",
       "       [0.        ],\n",
       "       [0.        ],\n",
       "       [0.13784626],\n",
       "       [0.        ],\n",
       "       [0.        ],\n",
       "       [0.        ]])"
      ]
     },
     "execution_count": 131,
     "metadata": {},
     "output_type": "execute_result"
    }
   ],
   "source": [
    "# Tensor product of (c0I + C1R + C2R^2 + C3R^3) |0>  and |0>, and |0>\n",
    "\n",
    "r1=np.kron(r,ket_0)\n",
    "r1"
   ]
  },
  {
   "cell_type": "code",
   "execution_count": 132,
   "metadata": {},
   "outputs": [
    {
     "data": {
      "text/plain": [
       "array([[0.95598121],\n",
       "       [0.        ],\n",
       "       [0.        ],\n",
       "       [0.        ],\n",
       "       [0.11286538],\n",
       "       [0.        ],\n",
       "       [0.        ],\n",
       "       [0.        ]])"
      ]
     },
     "execution_count": 132,
     "metadata": {},
     "output_type": "execute_result"
    }
   ],
   "source": [
    "# Vector r1 divided by (c0_c1+c2+c3)\n",
    "\n",
    "r1/(c0+c1+c2+c3)"
   ]
  },
  {
   "cell_type": "code",
   "execution_count": 133,
   "metadata": {},
   "outputs": [
    {
     "name": "stdout",
     "output_type": "stream",
     "text": [
      "[0.95598121 0.         0.         0.         0.11286538 0.\n",
      " 0.         0.        ]\n"
     ]
    }
   ],
   "source": [
    "print(proj_result)"
   ]
  },
  {
   "cell_type": "code",
   "execution_count": null,
   "metadata": {},
   "outputs": [],
   "source": []
  },
  {
   "cell_type": "markdown",
   "metadata": {},
   "source": [
    "# Circuit three"
   ]
  },
  {
   "cell_type": "code",
   "execution_count": 134,
   "metadata": {},
   "outputs": [],
   "source": [
    "from qiskit import QuantumCircuit, ClassicalRegister, QuantumRegister\n",
    "import numpy as np"
   ]
  },
  {
   "cell_type": "code",
   "execution_count": 135,
   "metadata": {},
   "outputs": [],
   "source": [
    "from qiskit import BasicAer, execute\n",
    "from qiskit.visualization import plot_histogram\n",
    " \n",
    "backend_sim = BasicAer.get_backend('qasm_simulator')"
   ]
  },
  {
   "cell_type": "code",
   "execution_count": 136,
   "metadata": {},
   "outputs": [
    {
     "data": {
      "image/png": "[encoded data removed]",
      "text/plain": [
       "<Figure size 1541.44x264.88 with 1 Axes>"
      ]
     },
     "execution_count": 136,
     "metadata": {},
     "output_type": "execute_result"
    }
   ],
   "source": [
    "t=0.1  #time used to evaluate the ode\n",
    "\n",
    "#Taylor series exapnsion\n",
    "c0= np.cosh(t)\n",
    "c1= np.sinh(t)\n",
    "d0= np.sin(t)\n",
    "d1= np.cosh(t)-1\n",
    "\n",
    "\n",
    "#Normalisation\n",
    "C= np.sqrt(c0+c1)\n",
    "D= np.sqrt(d0+d1)\n",
    "N= np.sqrt(C**2+D**2)\n",
    "\n",
    "\n",
    "\n",
    "#Angles to rotate the qubits for superposition\n",
    "psi= np.arctan2(D,C)\n",
    "theta=np.arctan2(np.sqrt(c1),np.sqrt(c0))\n",
    "phi=np.arctan2(np.sqrt(d1),np.sqrt(d0))\n",
    "\n",
    "\n",
    "\n",
    "#Quantum registers and circuit\n",
    "q= QuantumRegister(3)\n",
    "c= ClassicalRegister(3)\n",
    "qc = QuantumCircuit(q,c)\n",
    "\n",
    "#Encoding gates\n",
    "\n",
    "#V-gate\n",
    "qc.z(q[0])\n",
    "qc.ry(2*psi,q[0])\n",
    "qc.barrier(q[0],q[1],q[2])\n",
    "\n",
    "#Controlled ry with 0 control qubit\n",
    "qc.x(q[0])\n",
    "qc.cry(2*theta,q[0],q[1])\n",
    "qc.x(q[0])\n",
    "qc.barrier(q[0],q[1],q[2])\n",
    "\n",
    "#Controlled ry with 1 control qubit\n",
    "qc.cry(2*phi,q[0],q[1])\n",
    "qc.barrier(q[0],q[1],q[2])\n",
    "\n",
    "# cNOT-gate\n",
    "qc.cx(q[1],q[2])\n",
    "qc.barrier(q[0],q[1],q[2])\n",
    "\n",
    "#Inverse Controlled ry with 1 control qubit\n",
    "qc.cry(-2*phi,q[0],q[1])\n",
    "qc.barrier(q[0],q[1],q[2])\n",
    "\n",
    "#Inverse Controlled ry with 0 control qubit\n",
    "qc.x(q[0])\n",
    "qc.cry(-2*theta,q[0],q[1])\n",
    "qc.x(q[0])\n",
    "qc.barrier(q[0],q[1],q[2])\n",
    "\n",
    "#Inverse V-gate\n",
    "qc.ry(-2*psi,q[0])\n",
    "qc.z(q[0])\n",
    "\n",
    "qc.barrier(q[0],q[1],q[2])\n",
    "\n",
    "#Measure\n",
    "qc.measure(q,c)\n",
    "qc.draw('mpl',initial_state=True)"
   ]
  },
  {
   "cell_type": "markdown",
   "metadata": {},
   "source": [
    "## Running circuit three on a qasm simulator"
   ]
  },
  {
   "cell_type": "code",
   "execution_count": 137,
   "metadata": {},
   "outputs": [],
   "source": [
    " nshots=8192 #No. of simulations\n",
    "\n",
    "\n",
    "#Quasm simulator\n",
    "result = execute(qc, backend_sim, shots=nshots).result()\n",
    "counts = result.get_counts(qc)\n"
   ]
  },
  {
   "cell_type": "code",
   "execution_count": 138,
   "metadata": {},
   "outputs": [
    {
     "data": {
      "image/png": "[encoded data removed]",
      "text/plain": [
       "<Figure size 504x360 with 1 Axes>"
      ]
     },
     "execution_count": 138,
     "metadata": {},
     "output_type": "execute_result"
    }
   ],
   "source": [
    " #plot results\n",
    "plot_histogram(counts, color=\"darkgreen\")"
   ]
  },
  {
   "cell_type": "code",
   "execution_count": 139,
   "metadata": {},
   "outputs": [
    {
     "data": {
      "text/plain": [
       "{'000': 6832,\n",
       " '110': 631,\n",
       " '010': 636,\n",
       " '111': 4,\n",
       " '100': 81,\n",
       " '101': 3,\n",
       " '011': 4,\n",
       " '001': 1}"
      ]
     },
     "execution_count": 139,
     "metadata": {},
     "output_type": "execute_result"
    }
   ],
   "source": [
    "counts"
   ]
  },
  {
   "cell_type": "markdown",
   "metadata": {},
   "source": [
    "## Success probability"
   ]
  },
  {
   "cell_type": "markdown",
   "metadata": {},
   "source": [
    "### Experimental value for the success probability:"
   ]
  },
  {
   "cell_type": "code",
   "execution_count": 140,
   "metadata": {},
   "outputs": [
    {
     "data": {
      "text/plain": [
       "0.8438720703125"
      ]
     },
     "execution_count": 140,
     "metadata": {},
     "output_type": "execute_result"
    }
   ],
   "source": [
    "# Probabilities for which the ancillas are in |00> state \n",
    "p0 = counts.get('000')/nshots\n",
    "p1 = counts.get('100')/nshots\n",
    "\n",
    "# Success probability\n",
    "\n",
    "S_p_exp = p0 + p1\n",
    "S_p_exp"
   ]
  },
  {
   "cell_type": "markdown",
   "metadata": {},
   "source": [
    "## Theoretical value of success probability"
   ]
  },
  {
   "cell_type": "markdown",
   "metadata": {},
   "source": [
    "\\begin{align*}\n",
    " |\\underline{\\psi_5}>=\\frac{1}{C^2+D^2}[(C_0I+C_1X)|y(0)>+(D_0I+D_1X)|b>]\n",
    " \\end{align*}"
   ]
  },
  {
   "cell_type": "markdown",
   "metadata": {},
   "source": [
    "\\begin{align*}\n",
    "S_p=\\sum_{k=0}^{1}|<k|\\underline{\\psi_5}>|^2\n",
    "\\end{align*}"
   ]
  },
  {
   "cell_type": "markdown",
   "metadata": {},
   "source": [
    "\n",
    "\n",
    "\n",
    "$S_p=\\frac{1}{(D^2+C^2)^2}|<0|(C_0+XC_1)|0>+<1|C_0+XC_1|0>|^2+\\frac{1}{(D^2+C^2)^2}|<0|(D_0+XD_1)|0>+<1|D_0+XD_1|0>|^2$"
   ]
  },
  {
   "cell_type": "code",
   "execution_count": 141,
   "metadata": {},
   "outputs": [],
   "source": [
    "I= [[1,0],[0,1]]  # Identity\n",
    "X= [[0,1],[1,0]]  # A=X\n",
    "ket_0 = [1,0]     # <0|\n",
    "ket_1 = [[1],[0]]  # |0>\n",
    "ket_10 =[0,1]      # <1|"
   ]
  },
  {
   "cell_type": "code",
   "execution_count": 142,
   "metadata": {},
   "outputs": [
    {
     "data": {
      "text/plain": [
       "array([[1.00500417, 0.10016675],\n",
       "       [0.10016675, 1.00500417]])"
      ]
     },
     "execution_count": 142,
     "metadata": {},
     "output_type": "execute_result"
    }
   ],
   "source": [
    "# C0I + C1X \n",
    "\n",
    "A=(np.dot(c0,I)+np.dot(c1,X))\n",
    "A"
   ]
  },
  {
   "cell_type": "code",
   "execution_count": 143,
   "metadata": {},
   "outputs": [
    {
     "data": {
      "text/plain": [
       "array([1.22140276])"
      ]
     },
     "execution_count": 143,
     "metadata": {},
     "output_type": "execute_result"
    }
   ],
   "source": [
    "# <0|(C0I+c1X)|0> + <1|(C0I+c1X)|0>\n",
    "\n",
    "a=np.dot(np.dot(ket_0,A),ket_1) +  np.dot(np.dot(ket_10,A),ket_1)\n",
    "a**2"
   ]
  },
  {
   "cell_type": "code",
   "execution_count": 144,
   "metadata": {},
   "outputs": [
    {
     "data": {
      "text/plain": [
       "array([0.83422279])"
      ]
     },
     "execution_count": 144,
     "metadata": {},
     "output_type": "execute_result"
    }
   ],
   "source": [
    "\n",
    "c=a**2*(1/((D**2+C**2)**2))\n",
    "c"
   ]
  },
  {
   "cell_type": "code",
   "execution_count": 145,
   "metadata": {},
   "outputs": [
    {
     "data": {
      "text/plain": [
       "array([[0.09983342, 0.00500417],\n",
       "       [0.00500417, 0.09983342]])"
      ]
     },
     "execution_count": 145,
     "metadata": {},
     "output_type": "execute_result"
    }
   ],
   "source": [
    "# D0I + D1X \n",
    "\n",
    "B=(np.dot(d0,I)+np.dot(X,d1))\n",
    "B"
   ]
  },
  {
   "cell_type": "code",
   "execution_count": 146,
   "metadata": {},
   "outputs": [
    {
     "data": {
      "text/plain": [
       "array([0.01099092])"
      ]
     },
     "execution_count": 146,
     "metadata": {},
     "output_type": "execute_result"
    }
   ],
   "source": [
    "# <0|(D0I+D1X)|0> + <1|(D0I+D1X)|0>\n",
    "\n",
    "b=np.dot(np.dot(ket_0,B),ket_1) +  np.dot(np.dot(ket_10,B),ket_1)\n",
    "b**2"
   ]
  },
  {
   "cell_type": "code",
   "execution_count": 147,
   "metadata": {},
   "outputs": [
    {
     "data": {
      "text/plain": [
       "array([0.00750684])"
      ]
     },
     "execution_count": 147,
     "metadata": {},
     "output_type": "execute_result"
    }
   ],
   "source": [
    "d=b**2*(1/((D**2+C**2)**2))\n",
    "d"
   ]
  },
  {
   "cell_type": "markdown",
   "metadata": {},
   "source": [
    "## Theoretical success probability"
   ]
  },
  {
   "cell_type": "code",
   "execution_count": 148,
   "metadata": {},
   "outputs": [
    {
     "data": {
      "text/plain": [
       "array([0.84172963])"
      ]
     },
     "execution_count": 148,
     "metadata": {},
     "output_type": "execute_result"
    }
   ],
   "source": [
    "c+d"
   ]
  },
  {
   "cell_type": "code",
   "execution_count": 149,
   "metadata": {},
   "outputs": [
    {
     "name": "stdout",
     "output_type": "stream",
     "text": [
      "0.8438720703125\n",
      "[0.84172963]\n"
     ]
    }
   ],
   "source": [
    "# Comparing \n",
    "print(S_p_exp)\n",
    "print(c+d[0])"
   ]
  },
  {
   "cell_type": "markdown",
   "metadata": {},
   "source": [
    "###### Theoretical and experimental solution agree"
   ]
  },
  {
   "cell_type": "markdown",
   "metadata": {},
   "source": [
    "## Solution to the differential equation"
   ]
  },
  {
   "cell_type": "markdown",
   "metadata": {},
   "source": [
    "### Theoretical solution to the differential equation"
   ]
  },
  {
   "cell_type": "markdown",
   "metadata": {},
   "source": [
    "${y(t)}=(c_0I+c_1X)|y(0)>+(d_0I+d_1X)|b>$"
   ]
  },
  {
   "cell_type": "code",
   "execution_count": 150,
   "metadata": {},
   "outputs": [],
   "source": [
    "I= [[1,0],[0,1]] \n",
    "X= [[0,1],[1,0]]\n",
    "y_0= [[1],[0]]\n",
    "b=   [[1],[0]]"
   ]
  },
  {
   "cell_type": "code",
   "execution_count": 151,
   "metadata": {},
   "outputs": [
    {
     "data": {
      "text/plain": [
       "array([[1.10483758],\n",
       "       [0.10517092]])"
      ]
     },
     "execution_count": 151,
     "metadata": {},
     "output_type": "execute_result"
    }
   ],
   "source": [
    "# y(t) = (C0 I + C1X)|y(0)> + (D0 I + D1X) |b>\n",
    "np.dot((np.dot(c0,I)+np.dot(c1,X)),y_0) + np.dot((np.dot(d0,I)+np.dot(d1,X)),b)"
   ]
  },
  {
   "cell_type": "code",
   "execution_count": 152,
   "metadata": {},
   "outputs": [],
   "source": [
    "y0=1.10516667\n",
    "y1=0.10516667"
   ]
  },
  {
   "cell_type": "code",
   "execution_count": 153,
   "metadata": {},
   "outputs": [
    {
     "data": {
      "text/plain": [
       "10.508716021910743"
      ]
     },
     "execution_count": 153,
     "metadata": {},
     "output_type": "execute_result"
    }
   ],
   "source": [
    "Y = y0/y1\n",
    "Y"
   ]
  },
  {
   "cell_type": "markdown",
   "metadata": {},
   "source": [
    "## Experimental solution of the differential equation"
   ]
  },
  {
   "cell_type": "code",
   "execution_count": 154,
   "metadata": {},
   "outputs": [
    {
     "data": {
      "text/plain": [
       "9.183990364343034"
      ]
     },
     "execution_count": 154,
     "metadata": {},
     "output_type": "execute_result"
    }
   ],
   "source": [
    "np.sqrt(p0/p1)"
   ]
  },
  {
   "cell_type": "markdown",
   "metadata": {},
   "source": [
    "#### Theoretical and experimental solution agree"
   ]
  },
  {
   "cell_type": "markdown",
   "metadata": {},
   "source": [
    "## Running circuit three on the Statevector Simulator"
   ]
  },
  {
   "cell_type": "code",
   "execution_count": 155,
   "metadata": {},
   "outputs": [],
   "source": [
    "from qiskit.quantum_info import Statevector"
   ]
  },
  {
   "cell_type": "code",
   "execution_count": 156,
   "metadata": {},
   "outputs": [
    {
     "data": {
      "image/png": "[encoded data removed]",
      "text/plain": [
       "<Figure size 1316.99x264.88 with 1 Axes>"
      ]
     },
     "execution_count": 156,
     "metadata": {},
     "output_type": "execute_result"
    }
   ],
   "source": [
    "t=0.1  #time used to evaluate the ode\n",
    "\n",
    "#Taylor series exapnsion\n",
    "c0= 1+t**2/2\n",
    "c1= t+t**3/6\n",
    "d0= t+t**3/6\n",
    "d1= t**2/2\n",
    "\n",
    "\n",
    "#Normalisation\n",
    "C= np.sqrt(c0+c1)\n",
    "D= np.sqrt(d0+d1)\n",
    "N= np.sqrt(C**2+D**2)\n",
    "\n",
    "\n",
    "#Angles to rotate the qubits for superposition\n",
    "psi= np.arctan2(D,C)\n",
    "theta=np.arctan2(np.sqrt(c1),np.sqrt(c0))\n",
    "phi=np.arctan2(np.sqrt(d1),np.sqrt(d0))\n",
    "\n",
    "\n",
    "#Quantum registers and circuit\n",
    "q= QuantumRegister(3)\n",
    "c= ClassicalRegister(3)\n",
    "qc = QuantumCircuit(q,c)\n",
    "\n",
    "#Encoding gates\n",
    "\n",
    "#V-gate\n",
    "qc.ry(2*psi,q[0])\n",
    "qc.z(q[0])\n",
    "qc.barrier(q[0],q[1],q[2])\n",
    "\n",
    "#Controlled ry with 0 control qubit\n",
    "qc.x(q[0])\n",
    "qc.cry(2*theta,q[0],q[1])\n",
    "qc.x(q[0])\n",
    "qc.barrier(q[0],q[1],q[2])\n",
    "\n",
    "#Controlled ry with 1 control qubit\n",
    "qc.cry(2*phi,q[0],q[1])\n",
    "qc.barrier(q[0],q[1],q[2])\n",
    "\n",
    "# cNOT-gate\n",
    "qc.cx(q[1],q[2])\n",
    "qc.barrier(q[0],q[1],q[2])\n",
    "\n",
    "#Inverse Controlled ry with 1 control qubit\n",
    "qc.cry(-2*phi,q[0],q[1])\n",
    "qc.barrier(q[0],q[1],q[2])\n",
    "\n",
    "#Inverse Controlled ry with 0 control qubit\n",
    "qc.x(q[0])\n",
    "qc.cry(-2*theta,q[0],q[1])\n",
    "qc.x(q[0])\n",
    "qc.barrier(q[0],q[1],q[2])\n",
    "\n",
    "#Inverse V-gate\n",
    "qc.z(q[0])\n",
    "qc.ry(-2*psi,q[0])\n",
    "\n",
    "qc.barrier(q[0],q[1],q[2])\n",
    "\n",
    "#Measure\n",
    "#qc.measure(q,c)\n",
    "qc.draw('mpl')"
   ]
  },
  {
   "cell_type": "markdown",
   "metadata": {},
   "source": [
    "### Experimental state vector"
   ]
  },
  {
   "cell_type": "markdown",
   "metadata": {},
   "source": [
    "Initial state:"
   ]
  },
  {
   "cell_type": "code",
   "execution_count": 157,
   "metadata": {},
   "outputs": [],
   "source": [
    "sv = Statevector.from_label('000')"
   ]
  },
  {
   "cell_type": "code",
   "execution_count": 158,
   "metadata": {},
   "outputs": [],
   "source": [
    "msv=sv.evolve(qc)"
   ]
  },
  {
   "cell_type": "code",
   "execution_count": 159,
   "metadata": {},
   "outputs": [
    {
     "data": {
      "text/plain": [
       "array([ 0.91310934+0.j,  0.01213774+0.j, -0.28063403+0.j,  0.02092583+0.j,\n",
       "        0.08689066+0.j, -0.01213774+0.j,  0.28063403+0.j, -0.02092583+0.j])"
      ]
     },
     "execution_count": 159,
     "metadata": {},
     "output_type": "execute_result"
    }
   ],
   "source": [
    "msv.data"
   ]
  },
  {
   "cell_type": "code",
   "execution_count": 160,
   "metadata": {},
   "outputs": [],
   "source": [
    "result=msv.data.real"
   ]
  },
  {
   "cell_type": "code",
   "execution_count": 161,
   "metadata": {},
   "outputs": [
    {
     "name": "stdout",
     "output_type": "stream",
     "text": [
      "[ 0.91310934  0.01213774 -0.28063403  0.02092583  0.08689066 -0.01213774\n",
      "  0.28063403 -0.02092583]\n"
     ]
    }
   ],
   "source": [
    "print(result)"
   ]
  },
  {
   "cell_type": "markdown",
   "metadata": {},
   "source": [
    "Operator for projecting the ancilla qubit to the state |0>:"
   ]
  },
  {
   "cell_type": "code",
   "execution_count": 162,
   "metadata": {},
   "outputs": [],
   "source": [
    "idmat=[[1,0],[0,1]] # Identity matrix\n",
    "proj=[[1,0],[0,0]]  # projection operator\n",
    "A1=np.kron(idmat,proj)  # Tensor product \n",
    "B1=np.kron(A1,proj)   # Tensor product"
   ]
  },
  {
   "cell_type": "code",
   "execution_count": 163,
   "metadata": {},
   "outputs": [],
   "source": [
    "proj_result=np.dot(B1,result)"
   ]
  },
  {
   "cell_type": "code",
   "execution_count": 164,
   "metadata": {},
   "outputs": [
    {
     "data": {
      "text/plain": [
       "array([0.91310934, 0.        , 0.        , 0.        , 0.08689066,\n",
       "       0.        , 0.        , 0.        ])"
      ]
     },
     "execution_count": 164,
     "metadata": {},
     "output_type": "execute_result"
    }
   ],
   "source": [
    "proj_result"
   ]
  },
  {
   "cell_type": "code",
   "execution_count": 165,
   "metadata": {},
   "outputs": [
    {
     "name": "stdout",
     "output_type": "stream",
     "text": [
      "[0.91310934 0.         0.         0.         0.08689066 0.\n",
      " 0.         0.        ]\n"
     ]
    }
   ],
   "source": [
    "print(proj_result)"
   ]
  },
  {
   "cell_type": "markdown",
   "metadata": {},
   "source": [
    "### Theoretical state vector"
   ]
  },
  {
   "cell_type": "code",
   "execution_count": 166,
   "metadata": {},
   "outputs": [
    {
     "data": {
      "text/plain": [
       "array([[0.91283744],\n",
       "       [0.        ],\n",
       "       [0.        ],\n",
       "       [0.        ],\n",
       "       [0.08689418],\n",
       "       [0.        ],\n",
       "       [0.        ],\n",
       "       [0.        ]])"
      ]
     },
     "execution_count": 166,
     "metadata": {},
     "output_type": "execute_result"
    }
   ],
   "source": [
    "# F= (C0I + C1X )|0> \\otimes |0> \\otimes |0>\n",
    "# S= (D0I + D1X )|0> \\otimes |0> \\otimes |0>\n",
    "\n",
    "F=np.kron(np.kron(np.dot(A,ket_1),ket_1),ket_1)*(1/(D**2+C**2))\n",
    "S=np.kron(np.kron(np.dot(B,ket_1),ket_1),ket_1)*(1/(D**2+C**2))\n",
    "\n",
    "F+S"
   ]
  },
  {
   "cell_type": "markdown",
   "metadata": {},
   "source": [
    "Experimental and theoretical state vector agree"
   ]
  },
  {
   "cell_type": "code",
   "execution_count": null,
   "metadata": {},
   "outputs": [],
   "source": []
  }
 ],
 "metadata": {
  "kernelspec": {
   "display_name": "Python 3",
   "language": "python",
   "name": "python3"
  },
  "language_info": {
   "codemirror_mode": {
    "name": "ipython",
    "version": 3
   },
   "file_extension": ".py",
   "mimetype": "text/x-python",
   "name": "python",
   "nbconvert_exporter": "python",
   "pygments_lexer": "ipython3",
   "version": "3.7.3"
  }
 },
 "nbformat": 4,
 "nbformat_minor": 2
}
